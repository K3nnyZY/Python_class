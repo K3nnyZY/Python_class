{
 "cells": [
  {
   "attachments": {},
   "cell_type": "markdown",
   "metadata": {},
   "source": [
    "# List\n",
    "Es un tipo de dato que se usa para almacenar conjuntos de elementos o objetos\n",
    "- en el siguiente link podemos encontrar varias funciones para manejar las listas\n",
    "\n",
    "https://docs.python.org/3/tutorial/datastructures.html\n"
   ]
  },
  {
   "cell_type": "code",
   "execution_count": 51,
   "metadata": {},
   "outputs": [
    {
     "name": "stdout",
     "output_type": "stream",
     "text": [
      "[1, 2, 5, 7, 6, 5]\n",
      "9\n",
      "2\n",
      "[1, 2, 5, 7, 6, 9, 5]\n",
      "[1, 2, 5, 7, 6, 9, 5, 6, 8]\n",
      "['apple', 'banana', 'cherry']\n",
      "[1, 2, 6, 7, 8, 9]\n"
     ]
    }
   ],
   "source": [
    "\"\"\"algunas funciones de las listas\"\"\"\n",
    "lista = [1,2,5,7,6,5]\n",
    "print(lista)\n",
    "lista[-1] = 9  # cambipo el elemento de la lista segun su indice\n",
    "print(lista[-1]) #imprime el ultimo\n",
    "print(lista[1]) #imprime el primero\n",
    "lista.append(5)\n",
    "print(lista)\n",
    "lista.extend([6,8])\n",
    "print(lista)\n",
    "\n",
    "\n",
    "x = list(('apple', 'banana', 'cherry'))  # vuelve en una lista\n",
    "print(x)\n",
    "\n",
    "\"\"\"ejemplo, eliminar las ocurrencias de las listas\"\"\"\n",
    "lista2 = list(set(lista))  # set lo vuelve un conjunto, es decir solo mostrara los no repetidos, y list lo vuelve en una lista\n",
    "lista2.remove(5)\n",
    "print(lista2)"
   ]
  },
  {
   "attachments": {},
   "cell_type": "markdown",
   "metadata": {},
   "source": [
    "puede ocurrir un error de indice si se pasa del indice de la lista, para solucionarlo simplemente diremos su tamaño y lo imprimimos\n",
    "\n",
    "tambien podemos insertar listas en listas"
   ]
  },
  {
   "cell_type": "code",
   "execution_count": 55,
   "metadata": {},
   "outputs": [
    {
     "name": "stdout",
     "output_type": "stream",
     "text": [
      "patata\n",
      "beyblade\n"
     ]
    }
   ],
   "source": [
    "lista = [\"tomate\", \"lechuga\", \"coliflor\", \"naranja\", \"patata\"]\n",
    "indx_lista = len(lista) #tamaño de la lista\n",
    "print(lista[indx_lista-1])\n",
    "\n",
    "\"\"\"insertar listas en listas\"\"\"     \n",
    "comida = [\"arroz\", \"espinaca\", \"pepino\"]\n",
    "jugutes = [\"carro\", \"pistola\", \"beyblade\"]\n",
    "listas = [comida, jugutes]\n",
    "print(listas[1][2]) #imprime primer [la lista], [el indice de la lista]"
   ]
  },
  {
   "attachments": {},
   "cell_type": "markdown",
   "metadata": {},
   "source": [
    "# ejercicio\n",
    "## ¿quien paga?\n",
    "1. Vas a escribir un programa que seleccionará un nombre al azar de una lista de nombres. La persona seleccionada tendrá que pagar la cuenta de alimentos de todos.\n",
    "\n",
    "Importante: no se le permite utilizar la función choice().\n",
    "\n",
    "La línea 8 divide la cadena nombres_cadena en nombres individuales y los coloca dentro de una Lista llamada nombres. Para que esto funcione, debe ingresar todos los nombres como nombres seguidos de una coma y luego un espacio. p.ej. nombre, nombre, nombre"
   ]
  },
  {
   "cell_type": "code",
   "execution_count": 29,
   "metadata": {},
   "outputs": [
    {
     "name": "stdout",
     "output_type": "stream",
     "text": [
      "['da']\n",
      "la persona que pagara es: da\n"
     ]
    }
   ],
   "source": [
    "import random\n",
    "\n",
    "name_string = input(\"De los nombres de todos, separados en coma\")\n",
    "names = name_string.split(\", \")  # el split permite separar un String, dependiendo de lo que colocaras y dividir en una lista\n",
    "print(names)\n",
    "\n",
    "names_items = len(names)\n",
    "random_choice = random.randint(0, names_items - 1)\n",
    "person_pay = names[random_choice] \n",
    "\n",
    "# person_pay = random.choice(names) # otra forma de hacerlo\n",
    "\n",
    "print(\"la persona que pagara es: \" + person_pay)\n",
    "\n"
   ]
  },
  {
   "attachments": {},
   "cell_type": "markdown",
   "metadata": {},
   "source": [
    "## 2. ¿Donde poner el tesoro? \n",
    "\n",
    "Vas a escribir un programa que marcará un lugar con una X.\n",
    "\n",
    "Tu trabajo es escribir un programa que te permita marcar un cuadrado en el mapa usando un sistema de dos dígitos.\n",
    "\n",
    "El primer dígito en la entrada especificará la columna (la posición en el eje horizontal).\n",
    "\n",
    "El segundo dígito en la entrada especificará el número de fila (la posición en el eje vertical)."
   ]
  },
  {
   "cell_type": "code",
   "execution_count": 97,
   "metadata": {},
   "outputs": [
    {
     "name": "stdout",
     "output_type": "stream",
     "text": [
      "['⬜️', '️⬜️', '️⬜️']\n",
      "['⬜️', '⬜️', 'X']\n",
      "['⬜️️', '⬜️️', '⬜️️']\n",
      "esta fuera del limite, vuelve a ejecutarlo\n"
     ]
    }
   ],
   "source": [
    "row1 = [\"⬜️\",\"️⬜️\",\"️⬜️\"]\n",
    "row2 = [\"⬜️\",\"⬜️\",\"️⬜️\"]\n",
    "row3 = [\"⬜️️\",\"⬜️️\",\"⬜️️\"]\n",
    "map = [row1, row2, row3]\n",
    "position = input(\"¿Donde quieres colocar el tesoro?\")  #posiciones\n",
    "\n",
    "horizontal = int(position[0]) #seleciona el primer digito del numero\n",
    "vertical = int(position[1]) #selecciona el segunto digito del numero\n",
    "\n",
    "if horizontal < 4:\n",
    "    map[horizontal - 1][vertical - 1] = \"X\"  #intercambia el espacio del indice de la lista con una X\n",
    "\n",
    "    print(f\"{row1}\\n{row2}\\n{row3}\")\n",
    "else:\n",
    "    print(\"esta fuera del limite, vuelve a ejecutarlo\")"
   ]
  }
 ],
 "metadata": {
  "kernelspec": {
   "display_name": "Python 3",
   "language": "python",
   "name": "python3"
  },
  "language_info": {
   "codemirror_mode": {
    "name": "ipython",
    "version": 3
   },
   "file_extension": ".py",
   "mimetype": "text/x-python",
   "name": "python",
   "nbconvert_exporter": "python",
   "pygments_lexer": "ipython3",
   "version": "3.11.1"
  },
  "orig_nbformat": 4,
  "vscode": {
   "interpreter": {
    "hash": "96702491f58edbb3d45a4c10b19c48556a67cec5706094ff67c34c3746ac7a67"
   }
  }
 },
 "nbformat": 4,
 "nbformat_minor": 2
}
