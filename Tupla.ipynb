{
 "cells": [
  {
   "attachments": {},
   "cell_type": "markdown",
   "metadata": {},
   "source": [
    "# Curso de tupla\n",
    "\n",
    "### 1. Introduccion a las tuplas\n",
    "Las tuplas son una de las estructuras de datos incorporadas en Python. Son inmutables, lo que significa que una vez definidos sus elementos, no pueden ser modificados"
   ]
  },
  {
   "cell_type": "code",
   "execution_count": 206,
   "metadata": {},
   "outputs": [
    {
     "name": "stdout",
     "output_type": "stream",
     "text": [
      "('manzana', 'banana', 'cereza')\n"
     ]
    }
   ],
   "source": [
    "mi_tupla = (\"manzana\", \"banana\", \"cereza\")\n",
    "print(mi_tupla)"
   ]
  },
  {
   "attachments": {},
   "cell_type": "markdown",
   "metadata": {},
   "source": [
    "intentemos cambiar elementos daria error ya que son inmutables"
   ]
  },
  {
   "cell_type": "code",
   "execution_count": 207,
   "metadata": {},
   "outputs": [],
   "source": [
    "# Intentar cambiar un elemento\n",
    "# mi_tupla[1] = \"kiwi\""
   ]
  },
  {
   "cell_type": "code",
   "execution_count": 208,
   "metadata": {},
   "outputs": [
    {
     "name": "stdout",
     "output_type": "stream",
     "text": [
      "(1, 2, ['manzana', 'banana', 'cereza'])\n",
      "(1, 2, ['kiwi', 'banana', 'cereza'])\n"
     ]
    }
   ],
   "source": [
    "# Crear una tupla con una lista como elemento\n",
    "tupla = (1, 2, [\"manzana\", \"banana\", \"cereza\"])\n",
    "print(tupla)\n",
    "\n",
    "# Modificar la lista dentro de la tupla, no daria error ya que estamos modificando la lista no la tupla\n",
    "tupla[2][0] = \"kiwi\"\n",
    "print(tupla)"
   ]
  },
  {
   "attachments": {},
   "cell_type": "markdown",
   "metadata": {},
   "source": [
    "### 2. Creacion de tupla\n",
    "Para crear una tupla, utilizamos paréntesis () y separamos los elementos con comas ,.\n",
    "\n"
   ]
  },
  {
   "cell_type": "code",
   "execution_count": 209,
   "metadata": {},
   "outputs": [
    {
     "name": "stdout",
     "output_type": "stream",
     "text": [
      "tupla vacia: ()\n",
      "('hola',)\n",
      "('Hola', 3, True)\n"
     ]
    }
   ],
   "source": [
    "# Tupla vacia\n",
    "tupla_vacia = ()\n",
    "print(f\"tupla vacia: {tupla_vacia}\")\n",
    "\n",
    "# Tupla con un solo elemento (nota la coma al final)\n",
    "tupla_un_elemento = (\"hola\",)\n",
    "print(tupla_un_elemento)\n",
    "\n",
    "# Tupla con varios elementos\n",
    "tupla_multiples = (\"Hola\", 3, True)\n",
    "print(tupla_multiples)"
   ]
  },
  {
   "attachments": {},
   "cell_type": "markdown",
   "metadata": {},
   "source": [
    "### 3. Acceso y modificaciones de elementos\n",
    "#### Acceder a los elementos de la tuple\n",
    "Podemos acceder a los elementos de las tuplas utilizando índices."
   ]
  },
  {
   "cell_type": "code",
   "execution_count": 210,
   "metadata": {},
   "outputs": [
    {
     "name": "stdout",
     "output_type": "stream",
     "text": [
      "manzana\n",
      "cereza\n"
     ]
    }
   ],
   "source": [
    "# Índice positivo (empieza desde cero)\n",
    "print(mi_tupla[0])\n",
    "\n",
    "# Índice negativo (empieza desde el final, -1 es el último elemento)\n",
    "print(mi_tupla[-1])"
   ]
  },
  {
   "attachments": {},
   "cell_type": "markdown",
   "metadata": {},
   "source": [
    "#### Modificar tuplas\n",
    "Dado que las tuplas son inmutables, no podemos cambiar sus elementos. Pero podemos concatenar o combinar tuplas para formar una nueva."
   ]
  },
  {
   "cell_type": "code",
   "execution_count": 211,
   "metadata": {},
   "outputs": [
    {
     "name": "stdout",
     "output_type": "stream",
     "text": [
      "(1, 2, 3, 4, 5, 6)\n"
     ]
    }
   ],
   "source": [
    "tupla1 = (1,2,3)\n",
    "tupla2 = (4,5,6)\n",
    "tupla3 = tupla1 + tupla2\n",
    "print(tupla3)"
   ]
  },
  {
   "attachments": {},
   "cell_type": "markdown",
   "metadata": {},
   "source": [
    "### 4. Metodos y operaciones con tuplas\n",
    "Podemos realizar varias operaciones con tuplas, como determinar su longitud, encontrar el valor máximo o mínimo, etc."
   ]
  },
  {
   "cell_type": "code",
   "execution_count": 212,
   "metadata": {},
   "outputs": [
    {
     "name": "stdout",
     "output_type": "stream",
     "text": [
      "6\n",
      "1\n",
      "9\n"
     ]
    }
   ],
   "source": [
    "tupla = (3, 1, 7, 4, 9, 2)\n",
    "\n",
    "# Longitud de la tupla\n",
    "print(len(tupla))\n",
    "\n",
    "# Valor mínimo en la tupla\n",
    "print(min(tupla))\n",
    "\n",
    "# Valor máximo en la tupla\n",
    "print(max(tupla))"
   ]
  },
  {
   "attachments": {},
   "cell_type": "markdown",
   "metadata": {},
   "source": [
    "#### Desempaquetado de tuplas\n",
    "El desempaquetado de tuplas es un proceso en el que los valores de una tupla se asignan a sus respectivas variables."
   ]
  },
  {
   "cell_type": "code",
   "execution_count": 213,
   "metadata": {},
   "outputs": [
    {
     "name": "stdout",
     "output_type": "stream",
     "text": [
      "manzana\n",
      "banana\n",
      "cereza\n"
     ]
    }
   ],
   "source": [
    "tupla = (\"manzana\", \"banana\", \"cereza\")\n",
    "\n",
    "# desempaquetado de tupla\n",
    "fruta1, fruta2, fruta3 = tupla\n",
    "print(fruta1)\n",
    "print(fruta2)\n",
    "print(fruta3)"
   ]
  },
  {
   "attachments": {},
   "cell_type": "markdown",
   "metadata": {},
   "source": [
    "#### Tuplas anidadas\n",
    "Las tuplas también pueden contener otras tuplas (o listas, diccionarios, conjuntos, etc.) como elementos. Esto se llama anidación."
   ]
  },
  {
   "cell_type": "code",
   "execution_count": 214,
   "metadata": {},
   "outputs": [
    {
     "name": "stdout",
     "output_type": "stream",
     "text": [
      "(1, 2, (3, 4), [5, 6], {4: 'hola', 5: 'hello'})\n"
     ]
    }
   ],
   "source": [
    "# Tupla anidada\n",
    "tupla_anidada = (1, 2, (3, 4), [5, 6], {4:\"hola\", 5:\"hello\"})\n",
    "print(tupla_anidada)"
   ]
  },
  {
   "attachments": {},
   "cell_type": "markdown",
   "metadata": {},
   "source": [
    "#### Slicing con tuplas\n",
    "Podemos acceder a un rango de elementos en una tupla utilizando el concepto de slicing (corte). El slicing de una tupla se hace de la misma manera que con las listas."
   ]
  },
  {
   "cell_type": "code",
   "execution_count": 215,
   "metadata": {},
   "outputs": [
    {
     "name": "stdout",
     "output_type": "stream",
     "text": [
      "(1, 2, 3)\n",
      "(5, 6)\n"
     ]
    }
   ],
   "source": [
    "# Slicing de tupla\n",
    "mi_tupla = (1, 2, 3, 4, 5, 6)\n",
    "\n",
    "# Obteniendo los primeros 3 elementos\n",
    "print(mi_tupla[:3])\n",
    "\n",
    "# Obteniendo los últimos 2 elementos\n",
    "print(mi_tupla[-2:])"
   ]
  },
  {
   "attachments": {},
   "cell_type": "markdown",
   "metadata": {},
   "source": [
    "#### Copia de tuplas\n",
    "Aunque las tuplas son inmutables, podemos hacer una copia de una tupla creando una nueva tupla con los elementos de la existente."
   ]
  },
  {
   "cell_type": "code",
   "execution_count": 216,
   "metadata": {},
   "outputs": [
    {
     "name": "stdout",
     "output_type": "stream",
     "text": [
      "(1, 2, 3, 4, 5)\n",
      "(1, 2, 3, 4, 5)\n"
     ]
    }
   ],
   "source": [
    "# Copia de tupla\n",
    "tupla1 = (1, 2, 3, 4, 5)\n",
    "tupla2 = tuple(tupla1)\n",
    "print(tupla1)\n",
    "print(tupla2)"
   ]
  },
  {
   "attachments": {},
   "cell_type": "markdown",
   "metadata": {},
   "source": [
    "#### Bucles con tuplas\n",
    "Podemos iterar a través de los elementos de una tupla utilizando un bucle for."
   ]
  },
  {
   "cell_type": "code",
   "execution_count": 217,
   "metadata": {},
   "outputs": [
    {
     "name": "stdout",
     "output_type": "stream",
     "text": [
      "manzana\n",
      "banana\n",
      "cereza\n"
     ]
    }
   ],
   "source": [
    "# Bucle for con tupla\n",
    "mi_tupla = (\"manzana\", \"banana\", \"cereza\")\n",
    "\n",
    "for i in mi_tupla:\n",
    "    print(i)"
   ]
  },
  {
   "attachments": {},
   "cell_type": "markdown",
   "metadata": {},
   "source": [
    "### 5. Usos de tupas\n",
    "Las tuplas se pueden utilizar como claves en los diccionarios y también en las sentencias de control de flujo."
   ]
  },
  {
   "cell_type": "code",
   "execution_count": 218,
   "metadata": {},
   "outputs": [
    {
     "name": "stdout",
     "output_type": "stream",
     "text": [
      "{(1, 2): 'a', (3, 4): 'b'}\n",
      "La 'a' está en la tupla\n"
     ]
    }
   ],
   "source": [
    "# Tuplas como claves de diccionarios\n",
    "dict = {(1, 2): 'a', (3, 4): 'b'}\n",
    "print(dict)\n",
    "\n",
    "# Uso de tuplas en las sentencias de control de flujo\n",
    "tupla = ('a', 'b', 'c')\n",
    "\n",
    "if 'a' in tupla:\n",
    "    print(\"La 'a' está en la tupla\")"
   ]
  },
  {
   "attachments": {},
   "cell_type": "markdown",
   "metadata": {},
   "source": [
    "#### funciones\n",
    "Las tuplas pueden ser usadas para enviar múltiples valores desde una función."
   ]
  },
  {
   "cell_type": "code",
   "execution_count": 219,
   "metadata": {},
   "outputs": [
    {
     "name": "stdout",
     "output_type": "stream",
     "text": [
      "1 2 3\n"
     ]
    }
   ],
   "source": [
    "# Función que retorna una tupla\n",
    "def test():\n",
    "    return (1, 2, 3)\n",
    "\n",
    "x, y, z = test()\n",
    "print(x, y, z)"
   ]
  },
  {
   "attachments": {},
   "cell_type": "markdown",
   "metadata": {},
   "source": [
    "#### Comparando Tuplas\n",
    "Las tuplas pueden ser comparadas. El orden de comparación es lexicográfico, es decir, se compara el primer elemento de cada tupla, si son iguales se compara el segundo, y así sucesivamente"
   ]
  },
  {
   "cell_type": "code",
   "execution_count": 220,
   "metadata": {},
   "outputs": [
    {
     "name": "stdout",
     "output_type": "stream",
     "text": [
      "True\n"
     ]
    }
   ],
   "source": [
    "tupla1 = (1, 2, 3)\n",
    "tupla2 = (1, 2, 4)\n",
    "print(tupla1 < tupla2)"
   ]
  },
  {
   "attachments": {},
   "cell_type": "markdown",
   "metadata": {},
   "source": [
    "### 6. Ejercicios practicos\n",
    "Escribe una función que reciba una tupla de números y devuelva una nueva tupla con los elementos de la tupla original ordenados en orden ascendente."
   ]
  },
  {
   "cell_type": "code",
   "execution_count": 221,
   "metadata": {},
   "outputs": [
    {
     "name": "stdout",
     "output_type": "stream",
     "text": [
      "(1, 1, 2, 3, 3, 4, 5, 5, 5, 6, 9)\n"
     ]
    }
   ],
   "source": [
    "def ordena_tupla(tupla):\n",
    "    return tuple(sorted(tupla))\n",
    "\n",
    "mi_tupla = (3, 1, 4, 1, 5, 9, 2, 6, 5, 3, 5)\n",
    "\n",
    "print(ordena_tupla(mi_tupla))"
   ]
  },
  {
   "attachments": {},
   "cell_type": "markdown",
   "metadata": {},
   "source": [
    "### 7. Proyecto Final\n",
    "Escribe un programa que le pida al usuario ingresar una lista de estudiantes con sus correspondientes notas en varios exámenes (pueden ser diferentes números de exámenes para cada estudiante), y luego construye un diccionario donde las claves son los nombres de los estudiantes y los valores son tuplas con las notas de los exámenes."
   ]
  },
  {
   "cell_type": "code",
   "execution_count": 222,
   "metadata": {},
   "outputs": [
    {
     "name": "stdout",
     "output_type": "stream",
     "text": [
      "kenny: (4.0, 5.0, 6.0, 7.0, 4.0)\n",
      "daniela: (3.0, 4.0, 6.0, 4.0)\n"
     ]
    }
   ],
   "source": [
    "def ingreso_notas():\n",
    "    notas = {}\n",
    "    while True:\n",
    "        nombre = input('Ingresa el nombre del estudiante (o \"salir\" para terminar): ')\n",
    "        if nombre.lower() == 'salir':\n",
    "            break\n",
    "        examenes = []\n",
    "        while True:\n",
    "            nota = input(f'Ingresa la nota del examen para {nombre} (o \"terminar\" para pasar al siguiente estudiante): ')\n",
    "            if nota.lower() == 'terminar':\n",
    "                break\n",
    "            examenes.append(float(nota))\n",
    "        notas[nombre] = tuple(examenes)\n",
    "    return notas\n",
    "\n",
    "notas = ingreso_notas()\n",
    "for nombre, examenes in notas.items():\n",
    "    print(f'{nombre}: {examenes}')"
   ]
  }
 ],
 "metadata": {
  "kernelspec": {
   "display_name": "Python 3",
   "language": "python",
   "name": "python3"
  },
  "language_info": {
   "codemirror_mode": {
    "name": "ipython",
    "version": 3
   },
   "file_extension": ".py",
   "mimetype": "text/x-python",
   "name": "python",
   "nbconvert_exporter": "python",
   "pygments_lexer": "ipython3",
   "version": "3.11.2"
  },
  "orig_nbformat": 4
 },
 "nbformat": 4,
 "nbformat_minor": 2
}
