{
 "cells": [
  {
   "attachments": {},
   "cell_type": "markdown",
   "metadata": {},
   "source": [
    "# Curso de Listas\n",
    "Una lista es una estructura de datos en Python que permite almacenar múltiples elementos en un solo objeto.\n",
    "\n",
    "Las listas son ordenadas, modificables y permiten elementos duplicados."
   ]
  },
  {
   "attachments": {},
   "cell_type": "markdown",
   "metadata": {},
   "source": [
    "### 1. Creacion de listas"
   ]
  },
  {
   "attachments": {},
   "cell_type": "markdown",
   "metadata": {},
   "source": [
    "Las listas en Python pueden almacenar diferentes tipos de datos, incluidos números, cadenas y otros objetos. Puedes crear listas con elementos específicos o utilizar la función range() para crear listas de números en un rango."
   ]
  },
  {
   "cell_type": "code",
   "execution_count": 360,
   "metadata": {},
   "outputs": [
    {
     "name": "stdout",
     "output_type": "stream",
     "text": [
      "lista de numeros [1, 2, 3, 4, 5]\n",
      "lista mixta [1, 'dos', 3.0, [4, 5]]\n",
      "lista con range [1, 2, 3, 4, 5, 6, 7, 8, 9, 10]\n"
     ]
    }
   ],
   "source": [
    "# Crear una lista vacía\n",
    "lista_vacia = []\n",
    "\n",
    "# Crear una lista con elementos\n",
    "numeros = [1, 2, 3, 4, 5]\n",
    "\n",
    "# Crear una lista con diferentes tipos de datos\n",
    "lista_mixta = [1, \"dos\", 3.0, [4, 5]]\n",
    "\n",
    "# Crear una lista usando la función range()\n",
    "numeros_del_1_al_10 = list(range(1, 11))\n",
    "\n",
    "print(f\"lista de numeros {numeros}\")\n",
    "print(f\"lista mixta {lista_mixta}\")\n",
    "print(f\"lista con range {numeros_del_1_al_10}\")"
   ]
  },
  {
   "attachments": {},
   "cell_type": "markdown",
   "metadata": {},
   "source": [
    "### 2. Acceso a los elementos de una lista"
   ]
  },
  {
   "attachments": {},
   "cell_type": "markdown",
   "metadata": {},
   "source": [
    "Para acceder a los elementos de una lista, utiliza índices entre corchetes []. Los índices negativos hacen referencia a los elementos desde el final de la lista. Puedes utilizar slicing para acceder a un rango de elementos."
   ]
  },
  {
   "cell_type": "code",
   "execution_count": 361,
   "metadata": {},
   "outputs": [
    {
     "name": "stdout",
     "output_type": "stream",
     "text": [
      "el primer numero es: 1\n",
      "el ultimo numero es: 5\n",
      "Primeros tres elementos: [1, 2, 3]\n"
     ]
    }
   ],
   "source": [
    "# Acceder al primer elemento\n",
    "primer_numero = numeros[0]\n",
    "print(\"el primer numero es:\",primer_numero)\n",
    "\n",
    "# Acceder al último elemento\n",
    "ultimo_numero = numeros[-1]\n",
    "print(\"el ultimo numero es:\", ultimo_numero)\n",
    "\n",
    "# Acceder a un rango de elementos (slicing)\n",
    "tres_primeros = numeros[0:3]\n",
    "print(\"Primeros tres elementos:\", tres_primeros)"
   ]
  },
  {
   "attachments": {},
   "cell_type": "markdown",
   "metadata": {},
   "source": [
    "### 3. Tecnica de Slicing"
   ]
  },
  {
   "attachments": {},
   "cell_type": "markdown",
   "metadata": {},
   "source": [
    "El slicing es una técnica para obtener una sublista de una lista original, utilizando dos índices que representan el inicio y el final de la sublista. También puedes especificar un paso para tomar elementos a intervalos regulares.\n",
    "\n",
    "extraer elementos de una lista utilizando un rango específico. La notación [start:stop:step] se usa para especificar el rango, donde start es el índice inicial, stop es el índice final (exclusivo) y step es el intervalo entre los elementos"
   ]
  },
  {
   "cell_type": "code",
   "execution_count": 362,
   "metadata": {},
   "outputs": [
    {
     "name": "stdout",
     "output_type": "stream",
     "text": [
      "copia de la lista numeros: [1, 2, 3, 4, 5]\n",
      "Sublista desde el índice 1 al 3: [2, 3, 4]\n",
      "Sublista desde el índice 0 al 4 con paso de 2: [1, 3, 5]\n",
      "Lista invertida: [5, 4, 3, 2, 1]\n",
      "Primeros tres elementos: [1, 2, 3]\n",
      "Últimos tres elementos: [3, 4, 5]\n"
     ]
    }
   ],
   "source": [
    "# Copiar una lista usando slicing\n",
    "copia_numeros = numeros[:]\n",
    "print(\"copia de la lista numeros:\", copia_numeros)\n",
    "\n",
    "# Ejemplo de slicing para obtener una sublista\n",
    "sublista = numeros[1:4]\n",
    "print(\"Sublista desde el índice 1 al 3:\", sublista)\n",
    "\n",
    "# Ejemplo de slicing con un paso\n",
    "sublista_con_paso = numeros[0:5:2]\n",
    "print(\"Sublista desde el índice 0 al 4 con paso de 2:\", sublista_con_paso)\n",
    "\n",
    "# Ejemplo de slicing para invertir una lista\n",
    "lista_invertida = numeros[::-1]\n",
    "print(\"Lista invertida:\", lista_invertida)\n",
    "\n",
    "# Ejemplo de slicing para extraer elementos desde el inicio o hasta el final\n",
    "tres_primeros = numeros[0:3]\n",
    "print(\"Primeros tres elementos:\", tres_primeros)\n",
    "\n",
    "ultimos_tres = numeros[-3:]\n",
    "print(\"Últimos tres elementos:\", ultimos_tres)\n"
   ]
  },
  {
   "attachments": {},
   "cell_type": "markdown",
   "metadata": {},
   "source": [
    "### 4. Modificar elementos y añadir nuevos elementos"
   ]
  },
  {
   "attachments": {},
   "cell_type": "markdown",
   "metadata": {},
   "source": [
    "Puedes modificar los elementos de una lista asignando un nuevo valor a un índice específico. Utiliza las funciones append(), insert() y extend() para agregar nuevos elementos a una lista."
   ]
  },
  {
   "cell_type": "code",
   "execution_count": 363,
   "metadata": {},
   "outputs": [
    {
     "name": "stdout",
     "output_type": "stream",
     "text": [
      "lista original: [1, 2, 3, 4, 5]\n",
      "numero modificado cambiando el 1 por 10: [10, 2, 3, 4, 5]\n",
      "lista con el valor añadido al final 6: [10, 2, 3, 4, 5, 6]\n",
      "lista insertada con un valor nuevo 11 en la posicion 1: [10, 11, 2, 3, 4, 5, 6]\n",
      "lista extendida [10, 11, 2, 3, 4, 5, 6, 7, 8, 9]\n",
      "ultimo elemento eliminado retorna el elemento eliminado:  9\n",
      "elemento 1 de la lista eliminado: [10, 2, 3, 4, 5, 6, 7, 8]\n",
      "Elimina el valor de la lista el valor es 10:  [2, 3, 4, 5, 6, 7, 8]\n"
     ]
    }
   ],
   "source": [
    "print(\"lista original:\", numeros)\n",
    "# Modificar un elemento\n",
    "numeros[0] = 10\n",
    "print(f\"numero modificado cambiando el 1 por 10: {numeros}\")\n",
    "\n",
    "# Añadir un elemento al final de la lista\n",
    "numeros.append(6)\n",
    "print(\"lista con el valor añadido al final 6:\", numeros)\n",
    "\n",
    "# Insertar un elemento en una posición específica\n",
    "numeros.insert(1, 11)\n",
    "print(\"lista insertada con un valor nuevo 11 en la posicion 1:\", numeros)\n",
    "\n",
    "# Extender la lista con otra lista\n",
    "numeros.extend([7, 8, 9])\n",
    "print(\"lista extendida\", numeros)\n",
    "\n",
    "# Eliminar el último elemento y devolverlo\n",
    "ultimo = numeros.pop()\n",
    "print(\"ultimo elemento eliminado retorna el elemento eliminado: \", ultimo)\n",
    "\n",
    "# Eliminar un elemento en un índice específico\n",
    "del numeros[1]\n",
    "print(\"elemento 1 de la lista eliminado:\", numeros)\n",
    "\n",
    "# Eliminar un elemento por su valor\n",
    "numeros.remove(10)\n",
    "print(\"Elimina el valor de la lista el valor es 10: \", numeros)"
   ]
  },
  {
   "attachments": {},
   "cell_type": "markdown",
   "metadata": {},
   "source": [
    "### 5. Funciones y operaciones útiles con listas"
   ]
  },
  {
   "cell_type": "code",
   "execution_count": 364,
   "metadata": {},
   "outputs": [
    {
     "name": "stdout",
     "output_type": "stream",
     "text": [
      "Copia de la lista: [1, 2, 3, 2, 1, 3, 1, 1, 2]\n",
      "Longitud de la lista: 9\n",
      "Cantidad de veces que 1 aparece en la lista: 4\n",
      "el elemento 2 se encuentra en la lista:  True\n",
      "revertir la list_copy: [2, 1, 1, 3, 1, 2, 3, 2, 1]\n",
      "Lista ordenada: [1, 1, 1, 1, 2, 2, 2, 3, 3]\n",
      "Lista ordenada descendente: [3, 3, 2, 2, 2, 1, 1, 1, 1]\n",
      "vaciar toda la lista: []\n"
     ]
    }
   ],
   "source": [
    "lista = [1, 2, 3, 2, 1, 3, 1, 1, 2]\n",
    "\n",
    "# Crea una copia de la lista o crea una lista en una nueva memoria pero si afectamos la original afecta la copia\n",
    "list_copy = lista.copy()\n",
    "print(\"Copia de la lista:\", list_copy)\n",
    "\n",
    "# Longitud de una lista\n",
    "longitud = len(lista)\n",
    "print(\"Longitud de la lista:\", longitud)\n",
    "\n",
    "# Contando la cantidad de veces que un elemento aparece en la lista\n",
    "conteo = lista.count(1)\n",
    "print(\"Cantidad de veces que 1 aparece en la lista:\", conteo)\n",
    "\n",
    "# Verificar si un elemento está en la lista\n",
    "existe_dos = 2 in lista\n",
    "print(\"el elemento 2 se encuentra en la lista: \", existe_dos)\n",
    "\n",
    "# Invertir el orden de los elementos en la lista\n",
    "list_copy.reverse()\n",
    "print(\"revertir la list_copy:\", list_copy)\n",
    "\n",
    "# Ordenando una lista, utiliza quicksort\n",
    "lista.sort()\n",
    "print(\"Lista ordenada:\", lista)\n",
    "\n",
    "# Ordenar una lista de números en orden descendente\n",
    "lista.sort(reverse=True)\n",
    "print(\"Lista ordenada descendente:\", lista)\n",
    "\n",
    "# Vaciar la lista\n",
    "lista.clear()\n",
    "print(\"vaciar toda la lista:\", lista)"
   ]
  },
  {
   "cell_type": "markdown",
   "metadata": {},
   "source": []
  }
 ],
 "metadata": {
  "kernelspec": {
   "display_name": "Python 3",
   "language": "python",
   "name": "python3"
  },
  "language_info": {
   "codemirror_mode": {
    "name": "ipython",
    "version": 3
   },
   "file_extension": ".py",
   "mimetype": "text/x-python",
   "name": "python",
   "nbconvert_exporter": "python",
   "pygments_lexer": "ipython3",
   "version": "3.11.2"
  },
  "orig_nbformat": 4
 },
 "nbformat": 4,
 "nbformat_minor": 2
}
