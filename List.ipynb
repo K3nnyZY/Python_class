{
 "cells": [
  {
   "attachments": {},
   "cell_type": "markdown",
   "metadata": {},
   "source": [
    "# Curso de Listas\n",
    "Una lista es una estructura de datos en Python que permite almacenar múltiples elementos en un solo objeto.\n",
    "\n",
    "Las listas son ordenadas, modificables y permiten elementos duplicados.\n",
    "Es un tipo de dato que se usa para almacenar conjuntos de elementos o objetos\n",
    "- en el siguiente link podemos encontrar varias funciones para manejar las listas\n",
    "\n",
    "https://docs.python.org/3/tutorial/datastructures.html"
   ]
  },
  {
   "attachments": {},
   "cell_type": "markdown",
   "metadata": {},
   "source": [
    "### 1. Creacion de listas"
   ]
  },
  {
   "attachments": {},
   "cell_type": "markdown",
   "metadata": {},
   "source": [
    "Las listas en Python pueden almacenar diferentes tipos de datos, incluidos números, cadenas y otros objetos. Puedes crear listas con elementos específicos o utilizar la función range() para crear listas de números en un rango."
   ]
  },
  {
   "cell_type": "code",
   "execution_count": 1273,
   "metadata": {},
   "outputs": [
    {
     "name": "stdout",
     "output_type": "stream",
     "text": [
      "lista de numeros [1, 2, 3, 4, 5]\n",
      "lista mixta [1, 'dos', 3.0, [4, 5]]\n",
      "lista con range [1, 2, 3, 4, 5, 6, 7, 8, 9, 10]\n"
     ]
    }
   ],
   "source": [
    "# Crear una lista vacía\n",
    "lista_vacia = []\n",
    "\n",
    "# Crear una lista con elementos\n",
    "numeros = [1, 2, 3, 4, 5]\n",
    "\n",
    "# Crear una lista con diferentes tipos de datos\n",
    "lista_mixta = [1, \"dos\", 3.0, [4, 5]]\n",
    "\n",
    "# Crear una lista usando la función range()\n",
    "numeros_del_1_al_10 = list(range(1, 11))\n",
    "\n",
    "print(f\"lista de numeros {numeros}\")\n",
    "print(f\"lista mixta {lista_mixta}\")\n",
    "print(f\"lista con range {numeros_del_1_al_10}\")"
   ]
  },
  {
   "attachments": {},
   "cell_type": "markdown",
   "metadata": {},
   "source": [
    "#### Crear listas con list()"
   ]
  },
  {
   "cell_type": "code",
   "execution_count": 1274,
   "metadata": {},
   "outputs": [
    {
     "name": "stdout",
     "output_type": "stream",
     "text": [
      "Lista creada desde una tupla: [1, 2, 3]\n",
      "Lista creada desde un conjunto: [4, 5, 6]\n"
     ]
    }
   ],
   "source": [
    "# Crear una lista a partir de un objeto iterable (tupla, conjunto, etc.)\n",
    "tupla = (1, 2, 3)\n",
    "lista_desde_tupla = list(tupla)\n",
    "print(\"Lista creada desde una tupla:\", lista_desde_tupla)\n",
    "\n",
    "conjunto = {4, 5, 6}\n",
    "lista_desde_conjunto = list(conjunto)\n",
    "print(\"Lista creada desde un conjunto:\", lista_desde_conjunto)"
   ]
  },
  {
   "attachments": {},
   "cell_type": "markdown",
   "metadata": {},
   "source": [
    "### 2. Acceso a los elementos de una lista"
   ]
  },
  {
   "attachments": {},
   "cell_type": "markdown",
   "metadata": {},
   "source": [
    "Para acceder a los elementos de una lista, utiliza índices entre corchetes []. Los índices negativos hacen referencia a los elementos desde el final de la lista. Puedes utilizar slicing para acceder a un rango de elementos."
   ]
  },
  {
   "cell_type": "code",
   "execution_count": 1275,
   "metadata": {},
   "outputs": [
    {
     "name": "stdout",
     "output_type": "stream",
     "text": [
      "el primer numero es: 1\n",
      "el ultimo numero es: 5\n",
      "Primeros tres elementos: [1, 2, 3]\n"
     ]
    }
   ],
   "source": [
    "# Acceder al primer elemento\n",
    "primer_numero = numeros[0]\n",
    "print(\"el primer numero es:\",primer_numero)\n",
    "\n",
    "# Acceder al último elemento\n",
    "ultimo_numero = numeros[-1]\n",
    "print(\"el ultimo numero es:\", ultimo_numero)\n",
    "\n",
    "# Acceder a un rango de elementos (slicing)\n",
    "tres_primeros = numeros[0:3]\n",
    "print(\"Primeros tres elementos:\", tres_primeros)"
   ]
  },
  {
   "attachments": {},
   "cell_type": "markdown",
   "metadata": {},
   "source": [
    "### 3. Tecnica de Slicing"
   ]
  },
  {
   "attachments": {},
   "cell_type": "markdown",
   "metadata": {},
   "source": [
    "El slicing es una técnica para obtener una sublista de una lista original, utilizando dos índices que representan el inicio y el final de la sublista. También puedes especificar un paso para tomar elementos a intervalos regulares.\n",
    "\n",
    "extraer elementos de una lista utilizando un rango específico. La notación [start:stop:step] se usa para especificar el rango, donde start es el índice inicial, stop es el índice final (exclusivo) y step es el intervalo entre los elementos"
   ]
  },
  {
   "cell_type": "code",
   "execution_count": 1276,
   "metadata": {},
   "outputs": [
    {
     "name": "stdout",
     "output_type": "stream",
     "text": [
      "copia de la lista numeros: [1, 2, 3, 4, 5]\n",
      "Sublista desde el índice 1 al 3: [2, 3, 4]\n",
      "Sublista desde el índice 0 al 4 con paso de 2: [1, 3, 5]\n",
      "Lista invertida: [5, 4, 3, 2, 1]\n",
      "Primeros tres elementos: [1, 2, 3]\n",
      "Últimos tres elementos: [3, 4, 5]\n"
     ]
    }
   ],
   "source": [
    "# Copiar una lista usando slicing\n",
    "copia_numeros = numeros[:]\n",
    "print(\"copia de la lista numeros:\", copia_numeros)\n",
    "\n",
    "# Ejemplo de slicing para obtener una sublista\n",
    "sublista = numeros[1:4]\n",
    "print(\"Sublista desde el índice 1 al 3:\", sublista)\n",
    "\n",
    "# Ejemplo de slicing con un paso\n",
    "sublista_con_paso = numeros[0:5:2]\n",
    "print(\"Sublista desde el índice 0 al 4 con paso de 2:\", sublista_con_paso)\n",
    "\n",
    "# Ejemplo de slicing para invertir una lista\n",
    "lista_invertida = numeros[::-1]\n",
    "print(\"Lista invertida:\", lista_invertida)\n",
    "\n",
    "# Ejemplo de slicing para extraer elementos desde el inicio o hasta el final\n",
    "tres_primeros = numeros[0:3]\n",
    "print(\"Primeros tres elementos:\", tres_primeros)\n",
    "\n",
    "ultimos_tres = numeros[-3:]\n",
    "print(\"Últimos tres elementos:\", ultimos_tres)\n"
   ]
  },
  {
   "attachments": {},
   "cell_type": "markdown",
   "metadata": {},
   "source": [
    "### 4. Modificar elementos y añadir nuevos elementos"
   ]
  },
  {
   "attachments": {},
   "cell_type": "markdown",
   "metadata": {},
   "source": [
    "Puedes modificar los elementos de una lista asignando un nuevo valor a un índice específico. Utiliza las funciones append(), insert() y extend() para agregar nuevos elementos a una lista."
   ]
  },
  {
   "cell_type": "code",
   "execution_count": 1277,
   "metadata": {},
   "outputs": [
    {
     "name": "stdout",
     "output_type": "stream",
     "text": [
      "lista original: [1, 2, 3, 4, 5]\n",
      "numero modificado cambiando el 1 por 10: [10, 2, 3, 4, 5]\n",
      "lista con el valor añadido al final 6: [10, 2, 3, 4, 5, 6]\n",
      "lista insertada con un valor nuevo 11 en la posicion 1: [10, 11, 2, 3, 4, 5, 6]\n",
      "lista extendida [10, 11, 2, 3, 4, 5, 6, 7, 8, 9]\n",
      "ultimo elemento eliminado retorna el elemento eliminado:  9\n",
      "elimina el indice solicitado de la lista: [10, 2, 3, 4, 5, 6, 7, 8]\n",
      "Elimina el primer valor encontrado de la lista: [2, 3, 4, 5, 6, 7, 8]\n"
     ]
    }
   ],
   "source": [
    "print(\"lista original:\", numeros)\n",
    "# Modificar un elemento\n",
    "numeros[0] = 10\n",
    "print(f\"numero modificado cambiando el 1 por 10: {numeros}\")\n",
    "\n",
    "# Añadir un elemento al final de la lista\n",
    "numeros.append(6)\n",
    "print(\"lista con el valor añadido al final 6:\", numeros)\n",
    "\n",
    "# Insertar un elemento en una posición específica\n",
    "numeros.insert(1, 11)\n",
    "print(\"lista insertada con un valor nuevo 11 en la posicion 1:\", numeros)\n",
    "\n",
    "# Extender la lista con otra lista\n",
    "numeros.extend([7, 8, 9])\n",
    "print(\"lista extendida\", numeros)\n",
    "\n",
    "# Eliminar el último elemento y devolverlo\n",
    "ultimo = numeros.pop()\n",
    "print(\"ultimo elemento eliminado retorna el elemento eliminado: \", ultimo)\n",
    "\n",
    "# Eliminar un elemento en un índice específico\n",
    "del numeros[1]\n",
    "print(\"elimina el indice solicitado de la lista:\", numeros)\n",
    "\n",
    "# Eliminar un elemento por su valor\n",
    "numeros.remove(10)\n",
    "print(\"Elimina el primer valor encontrado de la lista:\", numeros)"
   ]
  },
  {
   "attachments": {},
   "cell_type": "markdown",
   "metadata": {},
   "source": [
    "### 5. Funciones y operaciones útiles con listas"
   ]
  },
  {
   "cell_type": "code",
   "execution_count": 1278,
   "metadata": {},
   "outputs": [
    {
     "name": "stdout",
     "output_type": "stream",
     "text": [
      "Copia de la lista: [1, 2, 3, 2, 1, 3, 1, 1, 2]\n",
      "Mínimo: 1\n",
      "Máximo: 3\n",
      "Longitud de la lista: 9\n",
      "Cantidad de veces que 1 aparece en la lista: 4\n",
      "el elemento 2 se encuentra en la lista:  True\n",
      "revertir la list_copy: [2, 1, 1, 3, 1, 2, 3, 2, 1]\n",
      "Lista ordenada: [1, 1, 1, 1, 2, 2, 2, 3, 3]\n",
      "Lista ordenada descendente: [3, 3, 2, 2, 2, 1, 1, 1, 1]\n",
      "vaciar toda la lista: []\n"
     ]
    }
   ],
   "source": [
    "lista = [1, 2, 3, 2, 1, 3, 1, 1, 2]\n",
    "\n",
    "# Crea una copia de la lista o crea una lista en una nueva memoria pero si afectamos la original afecta la copia\n",
    "list_copy = lista.copy()\n",
    "print(\"Copia de la lista:\", list_copy)\n",
    "\n",
    "# minimo y maximo de una lista\n",
    "minimo = min(lista)\n",
    "maximo = max(lista)\n",
    "\n",
    "print(\"Mínimo:\", minimo)\n",
    "print(\"Máximo:\", maximo)\n",
    "\n",
    "# Longitud de una lista\n",
    "longitud = len(lista)\n",
    "print(\"Longitud de la lista:\", longitud)\n",
    "\n",
    "# Contando la cantidad de veces que un elemento aparece en la lista\n",
    "conteo = lista.count(1)\n",
    "print(\"Cantidad de veces que 1 aparece en la lista:\", conteo)\n",
    "\n",
    "# Verificar si un elemento está en la lista\n",
    "existe_dos = 2 in lista\n",
    "print(\"el elemento 2 se encuentra en la lista: \", existe_dos)\n",
    "\n",
    "# Invertir el orden de los elementos en la lista\n",
    "list_copy.reverse()\n",
    "print(\"revertir la list_copy:\", list_copy)\n",
    "\n",
    "# Ordenando una lista, utiliza quicksort\n",
    "lista.sort()\n",
    "print(\"Lista ordenada:\", lista)\n",
    "\n",
    "# Ordenar una lista de números en orden descendente\n",
    "lista.sort(reverse=True)\n",
    "print(\"Lista ordenada descendente:\", lista)\n",
    "\n",
    "# Vaciar la lista\n",
    "lista.clear()\n",
    "print(\"vaciar toda la lista:\", lista)"
   ]
  },
  {
   "attachments": {},
   "cell_type": "markdown",
   "metadata": {},
   "source": [
    "##### encontrar indice de una lista\n",
    "La función index() te permite encontrar el índice de un elemento en una lista. Si el elemento aparece varias veces en la lista, devuelve el índice de la primera aparición."
   ]
  },
  {
   "cell_type": "code",
   "execution_count": 1279,
   "metadata": {},
   "outputs": [
    {
     "name": "stdout",
     "output_type": "stream",
     "text": [
      "Índice del color azul: 2\n",
      "Índice del color purpura: -1\n"
     ]
    }
   ],
   "source": [
    "# Encontrar el índice de un elemento en una lista usando la función index()\n",
    "colores = [\"rojo\", \"verde\", \"azul\", \"amarillo\", \"blanco\"]\n",
    "\n",
    "indice_azul = colores.index(\"azul\")\n",
    "print(\"Índice del color azul:\", indice_azul)\n",
    "\n",
    "# Si el elemento no se encuentra en la lista, se generará un ValueError\n",
    "# Para evitar esto, puedes usar un condicional\n",
    "indice_purpura = colores.index(\"purpura\") if \"purpura\" in colores else -1\n",
    "print(\"Índice del color purpura:\", indice_purpura)"
   ]
  },
  {
   "attachments": {},
   "cell_type": "markdown",
   "metadata": {},
   "source": [
    "### 6. Unir o concatenar lista"
   ]
  },
  {
   "attachments": {},
   "cell_type": "markdown",
   "metadata": {},
   "source": [
    "uedes unir dos listas utilizando el operador + o la función extend(). Ambas técnicas te permiten crear una nueva lista que contiene los elementos de ambas listas."
   ]
  },
  {
   "cell_type": "code",
   "execution_count": 1280,
   "metadata": {},
   "outputs": [
    {
     "name": "stdout",
     "output_type": "stream",
     "text": [
      "Lista unida con '+': [1, 2, 3, 4, 5, 6]\n",
      "Lista unida con 'extend()': [1, 2, 3, 4, 5, 6]\n"
     ]
    }
   ],
   "source": [
    "lista1 = [1, 2, 3]\n",
    "lista2 = [4, 5, 6]\n",
    "\n",
    "# Unir listas con el operador +\n",
    "lista_unida = lista1 + lista2\n",
    "print(\"Lista unida con '+':\", lista_unida)\n",
    "\n",
    "# Unir listas con list.extend()\n",
    "lista1.extend(lista2)\n",
    "print(\"Lista unida con 'extend()':\", lista1)"
   ]
  },
  {
   "attachments": {},
   "cell_type": "markdown",
   "metadata": {},
   "source": [
    "### 7. Listas anidadas"
   ]
  },
  {
   "attachments": {},
   "cell_type": "markdown",
   "metadata": {},
   "source": [
    "Las listas anidadas son listas que contienen otras listas como elementos. Puedes utilizar listas anidadas para representar estructuras de datos bidimensionales, como matrices. Para acceder a los elementos de una lista anidada, utiliza índices encadenados (por ejemplo, matriz[i][j]). Para iterar sobre una lista anidada, utiliza bucles anidados.\n",
    "\n",
    "Estos ejemplos cubren la mayoría de las funciones y técnicas útiles para trabajar con listas en Python. Puedes practicar con estos ejemplos y explorar más características de las listas a medida que te familiarices con el lenguaje Python"
   ]
  },
  {
   "cell_type": "code",
   "execution_count": 1281,
   "metadata": {},
   "outputs": [
    {
     "name": "stdout",
     "output_type": "stream",
     "text": [
      "Elemento en la posición (1, 2): 6\n",
      "Último elemento de la lista anidada: 9\n",
      "\n",
      "iteraciones de la lista:\n",
      "Elemento en la posición (0, 0): 1\n",
      "Elemento en la posición (0, 1): 2\n",
      "Elemento en la posición (0, 2): 3\n",
      "Elemento en la posición (1, 0): 4\n",
      "Elemento en la posición (1, 1): 5\n",
      "Elemento en la posición (1, 2): 6\n",
      "Elemento en la posición (2, 0): 7\n",
      "Elemento en la posición (2, 1): 8\n",
      "Elemento en la posición (2, 2): 9\n"
     ]
    }
   ],
   "source": [
    "matriz = [\n",
    "    [1, 2, 3],\n",
    "    [4, 5, 6],\n",
    "    [7, 8, 9]\n",
    "]\n",
    "\n",
    "# Acceder a un elemento de una lista anidada\n",
    "elemento = matriz[1][2]\n",
    "print(\"Elemento en la posición (1, 2):\", elemento)\n",
    "\n",
    "ultimo_elemento = matriz[-1][-1]\n",
    "print(\"Último elemento de la lista anidada:\", ultimo_elemento)\n",
    "\n",
    "print(\"\\niteraciones de la lista:\")\n",
    "# Iterar sobre una lista anidada\n",
    "for i, fila in enumerate(matriz):\n",
    "    for j, elemento in enumerate(fila):\n",
    "        print(f\"Elemento en la posición ({i}, {j}): {elemento}\")\n"
   ]
  },
  {
   "attachments": {},
   "cell_type": "markdown",
   "metadata": {},
   "source": [
    "### 8. Enumerar elementos de una lista y funcion Zip"
   ]
  },
  {
   "attachments": {},
   "cell_type": "markdown",
   "metadata": {},
   "source": [
    "La función enumerate() te permite iterar sobre los elementos de una lista con sus índices correspondientes. Es útil cuando necesitas rastrear la posición de un elemento mientras iteras sobre la lista.\n",
    "\n",
    "La función zip() te permite combinar dos o más listas, emparejando los elementos de cada lista. El resultado es un objeto iterable que contiene tuplas con elementos emparejados de las listas originales"
   ]
  },
  {
   "cell_type": "code",
   "execution_count": 1282,
   "metadata": {},
   "outputs": [
    {
     "name": "stdout",
     "output_type": "stream",
     "text": [
      "1. Alice\n",
      "2. Bob\n",
      "3. Charlie\n",
      "\n",
      "Combinación de nombres y edades: [('Alice', 30), ('Bob', 25), ('Charlie', 35)]\n",
      "Alice tiene 30 años\n",
      "Bob tiene 25 años\n",
      "Charlie tiene 35 años\n"
     ]
    }
   ],
   "source": [
    "# Enumerar elementos de una lista\n",
    "nombres = [\"Alice\", \"Bob\", \"Charlie\"]\n",
    "for i, nombre in enumerate(nombres):\n",
    "    print(f\"{i + 1}. {nombre}\")\n",
    "\n",
    "edades = [30, 25, 35]\n",
    "# Combinar dos listas usando zip\n",
    "combinacion = zip(nombres, edades)\n",
    "print(\"\\nCombinación de nombres y edades:\", list(combinacion))\n",
    "for nombre, edad in zip(nombres, edades):\n",
    "    print(nombre, \"tiene\", edad, \"años\")"
   ]
  },
  {
   "attachments": {},
   "cell_type": "markdown",
   "metadata": {},
   "source": [
    "### 9. Filtrar listas"
   ]
  },
  {
   "attachments": {},
   "cell_type": "markdown",
   "metadata": {},
   "source": [
    "Puedes filtrar una lista utilizando la función filter() y una función lambda o una lista de comprensión con una condición. Ambas técnicas te permiten crear una nueva lista con los elementos que cumplen una condición específica."
   ]
  },
  {
   "cell_type": "code",
   "execution_count": 1283,
   "metadata": {},
   "outputs": [
    {
     "name": "stdout",
     "output_type": "stream",
     "text": [
      "Números pares: [2, 14, 30]\n"
     ]
    }
   ],
   "source": [
    "# Filtrar una lista usando la función filter() y una función lambda\n",
    "numeros = [2, 7, 14, 21, 30]\n",
    "numeros_pares = list(filter(lambda x: x % 2 == 0, numeros))\n",
    "print(\"Números pares:\", numeros_pares)"
   ]
  },
  {
   "attachments": {},
   "cell_type": "markdown",
   "metadata": {},
   "source": [
    "### 10. Aplicar una función a todos los elementos de una lista"
   ]
  },
  {
   "attachments": {},
   "cell_type": "markdown",
   "metadata": {},
   "source": [
    "Puedes aplicar una función a todos los elementos de una lista utilizando la función map() y una función lambda o una lista de comprensión. Estas técnicas te permiten crear una nueva lista"
   ]
  },
  {
   "cell_type": "code",
   "execution_count": 1284,
   "metadata": {},
   "outputs": [
    {
     "name": "stdout",
     "output_type": "stream",
     "text": [
      "Cuadrados de los números: [1, 4, 9, 16, 25]\n"
     ]
    }
   ],
   "source": [
    "# Usando la función map() y una función lambda\n",
    "numeros = [1, 2, 3, 4, 5]\n",
    "cuadrados = list(map(lambda x: x**2, numeros))\n",
    "print(\"Cuadrados de los números:\", cuadrados)"
   ]
  },
  {
   "attachments": {},
   "cell_type": "markdown",
   "metadata": {},
   "source": [
    "#### 10.1. Reducir una lista a un único valor\n",
    "\n"
   ]
  },
  {
   "attachments": {},
   "cell_type": "markdown",
   "metadata": {},
   "source": [
    "a función reduce() te permite reducir una lista a un único valor aplicando una función acumulativa a todos los elementos de la lista de manera secuencial. En este ejemplo, se utiliza una función lambda para calcular el producto de todos los números de la lista."
   ]
  },
  {
   "cell_type": "code",
   "execution_count": 1285,
   "metadata": {},
   "outputs": [
    {
     "name": "stdout",
     "output_type": "stream",
     "text": [
      "Producto de todos los números: 120\n"
     ]
    }
   ],
   "source": [
    "numeros = [1, 2, 3, 4, 5]\n",
    "\n",
    "# Reducir una lista a un único valor utilizando la función reduce() y una función lambda\n",
    "from functools import reduce\n",
    "producto = reduce(lambda x, y: x * y, numeros)\n",
    "print(\"Producto de todos los números:\", producto)"
   ]
  },
  {
   "attachments": {},
   "cell_type": "markdown",
   "metadata": {},
   "source": [
    "### 11. List comprehension"
   ]
  },
  {
   "attachments": {},
   "cell_type": "markdown",
   "metadata": {},
   "source": [
    "La list comprehension es una forma concisa de crear listas en Python para hacerlo en menos linea. Es una expresión que consta de una expresión de salida, seguida de una o más cláusulas for y if."
   ]
  },
  {
   "cell_type": "code",
   "execution_count": 1286,
   "metadata": {},
   "outputs": [
    {
     "name": "stdout",
     "output_type": "stream",
     "text": [
      "[100, 21, 41, 3, 40, 86, 24, 44, 45, 36]\n",
      "Cuadrados de 1 al 10: [1, 4, 9, 16, 25, 36, 49, 64, 81, 100]\n",
      "Cuadrados de los números pares de 1 al 10: [4, 16, 36, 64, 100]\n",
      "[1, 2, 2, 3, 5]\n",
      "\n",
      "Tambien podemos hacerlo con varios iteradores\n",
      "ej1: Combinaciones de colores y frutas: [('rojo', 'manzana'), ('rojo', 'uva'), ('rojo', 'arándano'), ('verde', 'manzana'), ('verde', 'uva'), ('verde', 'arándano'), ('azul', 'manzana'), ('azul', 'uva'), ('azul', 'arándano')]\n",
      "ej2: Tabla de multiplicar:\n",
      "1 x 1 = 1\n",
      "1 x 2 = 2\n",
      "1 x 3 = 3\n",
      "2 x 1 = 2\n",
      "2 x 2 = 4\n",
      "2 x 3 = 6\n",
      "ej3: Elementos comunes en ambas listas: [4, 5]\n"
     ]
    }
   ],
   "source": [
    "import random\n",
    "# Crea una lista con 10 números enteros aleatorios entre 1 y 100\n",
    "mi_lista = [random.randint(1, 100) for _ in range(10)]\n",
    "print(mi_lista)\n",
    "\n",
    "# Ejemplo de list comprehension para crear una lista de números al cuadrado\n",
    "cuadrados = [x**2 for x in range(1, 11)]\n",
    "print(\"Cuadrados de 1 al 10:\", cuadrados)\n",
    "\n",
    "# Ejemplo de list comprehension con una condición\n",
    "pares_al_cuadrado = [x**2 for x in range(1, 11) if x % 2 == 0]\n",
    "print(\"Cuadrados de los números pares de 1 al 10:\", pares_al_cuadrado)\n",
    "\n",
    "# eliminar repetidos de valores solicitados\n",
    "mi_lista = [1, 2, 2, 3, 4, 4, 5]\n",
    "valor_a_eliminar = 4\n",
    "lista_sin_valor_repetido = [elemento for elemento in mi_lista if elemento != valor_a_eliminar]\n",
    "print(lista_sin_valor_repetido)\n",
    "\n",
    "print(\"\\nTambien podemos hacerlo con varios iteradores\")\n",
    "\n",
    "# Ejemplo 1: Producto cartesiano de dos listas\n",
    "colores = ['rojo', 'verde', 'azul']\n",
    "frutas = ['manzana', 'uva', 'arándano']\n",
    "combinaciones = [(color, fruta) for color in colores for fruta in frutas]\n",
    "print(\"ej1: Combinaciones de colores y frutas:\", combinaciones)\n",
    "\n",
    "# Ejemplo 2: Crear una tabla de multiplicar\n",
    "tabla = [f\"{i} x {j} = {i * j}\" for i in range(1, 3) for j in range(1, 4)]\n",
    "print(\"ej2: Tabla de multiplicar:\")\n",
    "for elemento in tabla:\n",
    "    print(elemento)\n",
    "\n",
    "# Ejemplo 3: Filtrar elementos utilizando dos listas\n",
    "numeros1 = [1, 2, 3, 4, 5]\n",
    "numeros2 = [4, 5, 6, 7, 8]\n",
    "# Encontrar los elementos comunes en ambas listas\n",
    "comunes = [x for x in numeros1 for y in numeros2 if x == y]\n",
    "print(\"ej3: Elementos comunes en ambas listas:\", comunes)"
   ]
  },
  {
   "attachments": {},
   "cell_type": "markdown",
   "metadata": {},
   "source": [
    "### 12. Itertools"
   ]
  },
  {
   "attachments": {},
   "cell_type": "markdown",
   "metadata": {},
   "source": [
    "La biblioteca itertools proporciona herramientas adicionales para trabajar con iteradores, que incluyen listas. Algunas de las funciones de esta biblioteca pueden ser útiles al trabajar con listas."
   ]
  },
  {
   "cell_type": "code",
   "execution_count": 1287,
   "metadata": {},
   "outputs": [
    {
     "name": "stdout",
     "output_type": "stream",
     "text": [
      "Combinaciones de 2 letras: [('A', 'B'), ('A', 'C'), ('B', 'C')]\n",
      "Permutaciones de 2 letras: [('A', 'B'), ('A', 'C'), ('B', 'A'), ('B', 'C'), ('C', 'A'), ('C', 'B')]\n",
      "Producto cartesiano: [(1, 'A'), (1, 'B'), (1, 'C'), (2, 'A'), (2, 'B'), (2, 'C')]\n"
     ]
    }
   ],
   "source": [
    "import itertools\n",
    "\n",
    "# Combinaciones\n",
    "letras = ['A', 'B', 'C']\n",
    "combinaciones = list(itertools.combinations(letras, 2))\n",
    "print(\"Combinaciones de 2 letras:\", combinaciones)\n",
    "\n",
    "# Permutaciones\n",
    "permutaciones = list(itertools.permutations(letras, 2))\n",
    "print(\"Permutaciones de 2 letras:\", permutaciones)\n",
    "\n",
    "# Producto cartesiano\n",
    "numeros = [1, 2]\n",
    "producto_cartesiano = list(itertools.product(numeros, letras))\n",
    "print(\"Producto cartesiano:\", producto_cartesiano)"
   ]
  },
  {
   "attachments": {},
   "cell_type": "markdown",
   "metadata": {},
   "source": [
    "### 13. All y any"
   ]
  },
  {
   "attachments": {},
   "cell_type": "markdown",
   "metadata": {},
   "source": [
    "Las funciones all() y any() se utilizan para evaluar si todos los elementos de una lista cumplen una condición o si al menos uno de los elementos cumple la condición, respectivamente."
   ]
  },
  {
   "cell_type": "code",
   "execution_count": 1288,
   "metadata": {},
   "outputs": [
    {
     "name": "stdout",
     "output_type": "stream",
     "text": [
      "Todos los números son pares: True\n",
      "Hay algún número impar: False\n"
     ]
    }
   ],
   "source": [
    "numeros = [2, 4, 6, 8, 10]\n",
    "\n",
    "# Comprobar si todos los elementos son pares\n",
    "todos_pares = all(x % 2 == 0 for x in numeros)\n",
    "print(\"Todos los números son pares:\", todos_pares)\n",
    "\n",
    "# Comprobar si al menos un elemento es impar\n",
    "alguna_impar = any(x % 2 != 0 for x in numeros)\n",
    "print(\"Hay algún número impar:\", alguna_impar)"
   ]
  },
  {
   "attachments": {},
   "cell_type": "markdown",
   "metadata": {},
   "source": [
    "### 14. Funcion Sorted"
   ]
  },
  {
   "attachments": {},
   "cell_type": "markdown",
   "metadata": {},
   "source": [
    "La función sorted() es una alternativa a list.sort(), que ordena una lista sin modificarla y devuelve una nueva lista ordenada. Puedes especificar el orden ascendente o descendente utilizando el argumento reverse. Además, puedes personalizar el criterio de ordenación utilizando el argumento key"
   ]
  },
  {
   "cell_type": "code",
   "execution_count": 1289,
   "metadata": {},
   "outputs": [
    {
     "name": "stdout",
     "output_type": "stream",
     "text": [
      "Lista ordenada en orden ascendente: [1, 2, 3, 4, 5]\n",
      "Lista ordenada en orden descendente: [5, 4, 3, 2, 1]\n",
      "Palabras ordenadas por longitud: ['kiwi', 'cereza', 'manzana', 'plátano']\n"
     ]
    }
   ],
   "source": [
    "lista_desordenada = [3, 1, 4, 2, 5]\n",
    "\n",
    "# Ordenar la lista en orden ascendente (por defecto)\n",
    "lista_ascendente = sorted(lista_desordenada)\n",
    "print(\"Lista ordenada en orden ascendente:\", lista_ascendente)\n",
    "\n",
    "# Ordenar la lista en orden descendente\n",
    "lista_descendente = sorted(lista_desordenada, reverse=True)\n",
    "print(\"Lista ordenada en orden descendente:\", lista_descendente)\n",
    "\n",
    "# Ordenar una lista de palabras por longitud\n",
    "palabras = ['manzana', 'kiwi', 'plátano', 'cereza']\n",
    "palabras_ordenadas = sorted(palabras, key=len)\n",
    "print(\"Palabras ordenadas por longitud:\", palabras_ordenadas)"
   ]
  },
  {
   "attachments": {},
   "cell_type": "markdown",
   "metadata": {},
   "source": [
    "### 15. Eliminar elementos duplicados de una lista (set)"
   ]
  },
  {
   "attachments": {},
   "cell_type": "markdown",
   "metadata": {},
   "source": [
    "Puedes eliminar elementos duplicados de una lista utilizando un conjunto (set), que no permite elementos duplicados, o utilizando una lista de comprensión para mantener el orden original de los elementos.\n",
    "\n",
    "Estas funciones y técnicas adicionales te proporcionan más opciones para trabajar con listas en Python. Puedes practicar con estos ejemplos y explorar aún más características de las listas a medida que te familiarices con el lenguaje Python."
   ]
  },
  {
   "cell_type": "code",
   "execution_count": 1290,
   "metadata": {},
   "outputs": [
    {
     "name": "stdout",
     "output_type": "stream",
     "text": [
      "Lista sin elementos duplicados (usando set): [1, 2, 3, 4, 5]\n",
      "Lista sin elementos duplicados (manteniendo el orden original): [1, 2, 3, 4, 5]\n"
     ]
    }
   ],
   "source": [
    "lista_duplicados = [1, 2, 2, 3, 4, 4, 5]\n",
    "\n",
    "# Eliminar elementos duplicados utilizando un conjunto (set)\n",
    "lista_sin_duplicados = list(set(lista_duplicados))\n",
    "print(\"Lista sin elementos duplicados (usando set):\", lista_sin_duplicados)\n",
    "\n",
    "# Eliminar elementos duplicados manteniendo el orden original\n",
    "lista_sin_duplicados_orden = []\n",
    "[lista_sin_duplicados_orden.append(x) for x in lista_duplicados if x not in lista_sin_duplicados_orden]\n",
    "print(\"Lista sin elementos duplicados (manteniendo el orden original):\", lista_sin_duplicados_orden)"
   ]
  },
  {
   "attachments": {},
   "cell_type": "markdown",
   "metadata": {},
   "source": [
    "### 16. copiar listas"
   ]
  },
  {
   "attachments": {},
   "cell_type": "markdown",
   "metadata": {},
   "source": [
    "Hay varias formas de copiar una lista en Python. Puedes utilizar slicing, la función copy() de una lista o la función list(). Es importante hacer una copia de una lista si deseas trabajar con ella sin modificar la lista original."
   ]
  },
  {
   "cell_type": "code",
   "execution_count": 1291,
   "metadata": {},
   "outputs": [
    {
     "name": "stdout",
     "output_type": "stream",
     "text": [
      "Copia de la lista usando slicing: [1, 2, 3, 4, 5]\n",
      "Copia de la lista usando list.copy(): [1, 2, 3, 4, 5]\n",
      "Copia de la lista usando la función list(): [1, 2, 3, 4, 5]\n"
     ]
    }
   ],
   "source": [
    "lista_original = [1, 2, 3, 4, 5]\n",
    "\n",
    "# Copiar una lista utilizando slicing\n",
    "copia1 = lista_original[:]\n",
    "print(\"Copia de la lista usando slicing:\", copia1)\n",
    "\n",
    "# Copiar una lista utilizando list.copy()\n",
    "copia2 = lista_original.copy()\n",
    "print(\"Copia de la lista usando list.copy():\", copia2)\n",
    "\n",
    "# Copiar una lista utilizando la función list()\n",
    "copia3 = list(lista_original)\n",
    "print(\"Copia de la lista usando la función list():\", copia3)\n"
   ]
  },
  {
   "attachments": {},
   "cell_type": "markdown",
   "metadata": {},
   "source": [
    "### 17. Listas inmutables (tuplas)"
   ]
  },
  {
   "attachments": {},
   "cell_type": "markdown",
   "metadata": {},
   "source": [
    "Las tuplas son similares a las listas, pero son inmutables, lo que significa que no puedes modificar sus elementos una vez creadas. Las tuplas se crean utilizando paréntesis en lugar de corchetes y se pueden utilizar en situaciones donde se requiere una lista de elementos que no se modifiquen.\n",
    "\n",
    "Estas son algunas funciones y técnicas adicionales para trabajar con listas en Python. Puedes utilizar"
   ]
  },
  {
   "cell_type": "code",
   "execution_count": 1292,
   "metadata": {},
   "outputs": [
    {
     "name": "stdout",
     "output_type": "stream",
     "text": [
      "Elemento en la posición 1: 2\n"
     ]
    }
   ],
   "source": [
    "# Crear una tupla\n",
    "tupla = (1, 2, 3)\n",
    "\n",
    "# Acceder a un elemento de una tupla\n",
    "elemento = tupla[1]\n",
    "print(\"Elemento en la posición 1:\", elemento)"
   ]
  },
  {
   "attachments": {},
   "cell_type": "markdown",
   "metadata": {},
   "source": [
    "### 18. Convertir una cadena en una lista"
   ]
  },
  {
   "attachments": {},
   "cell_type": "markdown",
   "metadata": {},
   "source": [
    "Puedes convertir una cadena en una lista utilizando el método split(). El método split() divide una cadena en una lista de subcadenas, utilizando un separador específico."
   ]
  },
  {
   "cell_type": "code",
   "execution_count": 1293,
   "metadata": {},
   "outputs": [
    {
     "name": "stdout",
     "output_type": "stream",
     "text": [
      "['Hola', 'como estas?']\n"
     ]
    }
   ],
   "source": [
    "mi_cadena = \"Hola, como estas?\"\n",
    "mi_lista = mi_cadena.split(\", \")  # Divide la cadena en una lista de dos subcadenas: [\"Hola\", \"como estas?\"]\n",
    "\n",
    "print(mi_lista)"
   ]
  },
  {
   "attachments": {},
   "cell_type": "markdown",
   "metadata": {},
   "source": [
    "### 19. Unir elementos de una lista en una cadena\n",
    "\n",
    "Puedes unir los elementos de una lista en una cadena utilizando el método join(). El método join() toma una lista como argumento y devuelve una cadena que contiene los elementos de la lista unidos por un separador específico."
   ]
  },
  {
   "cell_type": "code",
   "execution_count": 1294,
   "metadata": {},
   "outputs": [
    {
     "name": "stdout",
     "output_type": "stream",
     "text": [
      "Hola como estas\n"
     ]
    }
   ],
   "source": [
    "mi_lista = [\"Hola\", \"como\", \"estas\"]\n",
    "mi_cadena = \" \".join(mi_lista)  # Crea una cadena que une los elementos de mi_lista separados por un espacio\n",
    "\n",
    "print(mi_cadena)"
   ]
  },
  {
   "cell_type": "code",
   "execution_count": 1295,
   "metadata": {},
   "outputs": [
    {
     "name": "stdout",
     "output_type": "stream",
     "text": [
      "[1, 0, 3, 0, 4, 0, 5]\n",
      "[1, 0, 3, 0, 4, 0, 5]\n"
     ]
    }
   ],
   "source": [
    "mi_lista = [1, 2, 3, 2, 4, 2, 5]\n",
    "mi_lista = [x if x != 2 else 0 for x in mi_lista]  # Reemplaza todos los elementos iguales a 2 con el valor 0\n",
    "print(mi_lista)\n",
    "\n",
    "mi_lista = [1, 2, 3, 2, 4, 2, 5]\n",
    "for i, x in enumerate(mi_lista):\n",
    "    if x == 2:\n",
    "        mi_lista[i] = 0\n",
    "print(mi_lista)"
   ]
  },
  {
   "cell_type": "markdown",
   "metadata": {},
   "source": [
    "## Proyectos"
   ]
  },
  {
   "cell_type": "markdown",
   "metadata": {},
   "source": [
    "### ¿quien paga?\n",
    "1. Vas a escribir un programa que seleccionará un nombre al azar de una lista de nombres. La persona seleccionada tendrá que pagar la cuenta de alimentos de todos.\n",
    "\n",
    "Importante: no se le permite utilizar la función choice().\n",
    "\n",
    "La línea 8 divide la cadena nombres_cadena en nombres individuales y los coloca dentro de una Lista llamada nombres. Para que esto funcione, debe ingresar todos los nombres como nombres seguidos de una coma y luego un espacio. p.ej. nombre, nombre, nombre"
   ]
  },
  {
   "cell_type": "code",
   "execution_count": null,
   "metadata": {},
   "outputs": [],
   "source": [
    "import random\n",
    "\n",
    "name_string = input(\"De los nombres de todos, separados en coma\")\n",
    "names = name_string.split(\", \")  # el split permite separar un String, dependiendo de lo que colocaras y dividir en una lista\n",
    "print(names)\n",
    "\n",
    "names_items = len(names)\n",
    "random_choice = random.randint(0, names_items - 1)\n",
    "person_pay = names[random_choice] \n",
    "\n",
    "# person_pay = random.choice(names) # otra forma de hacerlo\n",
    "\n",
    "print(\"la persona que pagara es: \" + person_pay)"
   ]
  },
  {
   "cell_type": "markdown",
   "metadata": {},
   "source": [
    "### 2. ¿Donde poner el tesoro? \n",
    "\n",
    "Vas a escribir un programa que marcará un lugar con una X.\n",
    "\n",
    "Tu trabajo es escribir un programa que te permita marcar un cuadrado en el mapa usando un sistema de dos dígitos.\n",
    "\n",
    "El primer dígito en la entrada especificará la columna (la posición en el eje horizontal).\n",
    "\n",
    "El segundo dígito en la entrada especificará el número de fila (la posición en el eje vertical)."
   ]
  },
  {
   "cell_type": "code",
   "execution_count": null,
   "metadata": {},
   "outputs": [],
   "source": [
    "row1 = [\"⬜️\",\"️⬜️\",\"️⬜️\"]\n",
    "row2 = [\"⬜️\",\"⬜️\",\"️⬜️\"]\n",
    "row3 = [\"⬜️️\",\"⬜️️\",\"⬜️️\"]\n",
    "map = [row1, row2, row3]\n",
    "position = input(\"¿Donde quieres colocar el tesoro?\")  #posiciones\n",
    "\n",
    "horizontal = int(position[0]) #seleciona el primer digito del numero\n",
    "vertical = int(position[1]) #selecciona el segunto digito del numero\n",
    "\n",
    "if horizontal < 4:\n",
    "    map[horizontal - 1][vertical - 1] = \"X\"  #intercambia el espacio del indice de la lista con una X\n",
    "\n",
    "    print(f\"{row1}\\n{row2}\\n{row3}\")\n",
    "else:\n",
    "    print(\"esta fuera del limite, vuelve a ejecutarlo\")"
   ]
  }
 ],
 "metadata": {
  "kernelspec": {
   "display_name": "Python 3",
   "language": "python",
   "name": "python3"
  },
  "language_info": {
   "codemirror_mode": {
    "name": "ipython",
    "version": 3
   },
   "file_extension": ".py",
   "mimetype": "text/x-python",
   "name": "python",
   "nbconvert_exporter": "python",
   "pygments_lexer": "ipython3",
   "version": "3.11.2"
  },
  "orig_nbformat": 4
 },
 "nbformat": 4,
 "nbformat_minor": 2
}
