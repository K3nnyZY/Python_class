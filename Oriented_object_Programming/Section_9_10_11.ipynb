{
 "cells": [
  {
   "attachments": {},
   "cell_type": "markdown",
   "metadata": {},
   "source": [
    "## Seccion 9: El patron iterador\n",
    "\n",
    "Un iterador es un patrón de diseño que permite a los clientes de una colección de elementos acceder a estos elementos sin exponer la estructura subyacente de la colección. Un objeto iterador permite a los clientes \"recorrer\" una colección a través de una interfaz que incluye un método para obtener el siguiente elemento en la colección. En Python, un objeto iterador requiere la implementación de dos métodos especiales, __iter__() y __next__(), que forman parte del protocolo de iterador.\n",
    "\n",
    "### 9.1 Creación de un iterador\n",
    "\n",
    "Crear un iterador implica definir una clase que implemente los métodos __iter__() y __next__().\n",
    "\n",
    "Vamos a mejorar el ejemplo de la baraja de cartas:"
   ]
  },
  {
   "cell_type": "code",
   "execution_count": 9,
   "metadata": {},
   "outputs": [
    {
     "name": "stdout",
     "output_type": "stream",
     "text": [
      "As de Corazones\n",
      "2 de Corazones\n",
      "3 de Corazones\n",
      "4 de Corazones\n",
      "5 de Corazones\n"
     ]
    }
   ],
   "source": [
    "class Baraja:\n",
    "    def __init__(self):\n",
    "        palos = ['Corazones', 'Diamantes', 'Picas', 'Tréboles']\n",
    "        valores = ['As', '2', '3', '4', '5', '6', '7', '8', '9', '10', 'J', 'Q', 'K']\n",
    "        self.cartas = [valor + \" de \" + palo for palo in palos for valor in valores]\n",
    "        self.indice_actual = 0\n",
    "\n",
    "    def __iter__(self):\n",
    "        return self\n",
    "\n",
    "    def __next__(self):\n",
    "        if self.indice_actual < len(self.cartas):\n",
    "            carta_actual = self.cartas[self.indice_actual]\n",
    "            self.indice_actual += 1\n",
    "            return carta_actual\n",
    "        else:\n",
    "            raise StopIteration\n",
    "\n",
    "baraja = Baraja()\n",
    "iterador_baraja = iter(baraja)\n",
    "\n",
    "for i in range(5):\n",
    "    print(next(iterador_baraja))  # Imprimirá las primeras 5 cartas"
   ]
  },
  {
   "attachments": {},
   "cell_type": "markdown",
   "metadata": {},
   "source": [
    "### 9.2 StopIteration\n",
    "\n",
    "El objeto StopIteration se utiliza para señalar el final de una secuencia iterable. Una vez que todas las cartas han sido recorridas y se intenta obtener la siguiente carta, se genera la excepción StopIteration, que indica que no quedan más elementos para iterar."
   ]
  },
  {
   "cell_type": "code",
   "execution_count": 10,
   "metadata": {},
   "outputs": [
    {
     "name": "stdout",
     "output_type": "stream",
     "text": [
      "6 de Corazones\n",
      "7 de Corazones\n",
      "8 de Corazones\n",
      "9 de Corazones\n",
      "10 de Corazones\n",
      "J de Corazones\n",
      "Q de Corazones\n",
      "K de Corazones\n",
      "As de Diamantes\n",
      "2 de Diamantes\n",
      "3 de Diamantes\n",
      "4 de Diamantes\n",
      "5 de Diamantes\n",
      "6 de Diamantes\n",
      "7 de Diamantes\n",
      "8 de Diamantes\n",
      "9 de Diamantes\n",
      "10 de Diamantes\n",
      "J de Diamantes\n",
      "Q de Diamantes\n",
      "K de Diamantes\n",
      "As de Picas\n",
      "2 de Picas\n",
      "3 de Picas\n",
      "4 de Picas\n",
      "5 de Picas\n",
      "6 de Picas\n",
      "7 de Picas\n",
      "8 de Picas\n",
      "9 de Picas\n",
      "10 de Picas\n",
      "J de Picas\n",
      "Q de Picas\n",
      "K de Picas\n",
      "As de Tréboles\n",
      "2 de Tréboles\n",
      "3 de Tréboles\n",
      "4 de Tréboles\n",
      "5 de Tréboles\n",
      "6 de Tréboles\n",
      "7 de Tréboles\n",
      "8 de Tréboles\n",
      "9 de Tréboles\n",
      "10 de Tréboles\n",
      "J de Tréboles\n",
      "Q de Tréboles\n",
      "K de Tréboles\n"
     ]
    }
   ],
   "source": [
    "for carta in baraja:\n",
    "    print(carta)"
   ]
  }
 ],
 "metadata": {
  "kernelspec": {
   "display_name": "Python 3",
   "language": "python",
   "name": "python3"
  },
  "language_info": {
   "codemirror_mode": {
    "name": "ipython",
    "version": 3
   },
   "file_extension": ".py",
   "mimetype": "text/x-python",
   "name": "python",
   "nbconvert_exporter": "python",
   "pygments_lexer": "ipython3",
   "version": "3.11.2"
  },
  "orig_nbformat": 4
 },
 "nbformat": 4,
 "nbformat_minor": 2
}
