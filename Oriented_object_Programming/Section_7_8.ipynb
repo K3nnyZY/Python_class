{
 "cells": [
  {
   "attachments": {},
   "cell_type": "markdown",
   "metadata": {},
   "source": [
    "## Sección 7: Excepciones en Python, Propiedades y Decoradores\n",
    "### 7.1 Excepciones en Python\n",
    "Las excepciones son una manera de responder a errores que pueden ocurrir durante la ejecución de un programa. Python maneja las excepciones mediante bloques try / except. También puedes definir excepciones personalizadas.\n",
    "\n",
    "Consideremos el caso de un juego RPG. Estamos trabajando con un objeto Personaje, que tiene una cantidad limitada de vida. Si intentamos reducir la vida del personaje más allá de 0, deberíamos lanzar una excepción."
   ]
  },
  {
   "cell_type": "code",
   "execution_count": 113,
   "metadata": {},
   "outputs": [
    {
     "name": "stdout",
     "output_type": "stream",
     "text": [
      "El daño recibido excede la vida actual del personaje.\n"
     ]
    }
   ],
   "source": [
    "class VidaNegativaError(Exception):\n",
    "    \"\"\"Excepción personalizada para manejar vida negativa en el Personaje.\"\"\"\n",
    "    pass\n",
    "\n",
    "class Personaje:\n",
    "    def __init__(self, vida):\n",
    "        self.vida = vida\n",
    "\n",
    "    def recibir_daño(self, daño):\n",
    "        if self.vida - daño < 0:\n",
    "            raise VidaNegativaError(\"El daño recibido excede la vida actual del personaje.\")\n",
    "        self.vida -= daño\n",
    "\n",
    "try:\n",
    "    personaje = Personaje(100)\n",
    "    personaje.recibir_daño(150)\n",
    "except VidaNegativaError as e:\n",
    "    print(e)"
   ]
  },
  {
   "attachments": {},
   "cell_type": "markdown",
   "metadata": {},
   "source": [
    "#### Otro ejemplo"
   ]
  },
  {
   "cell_type": "code",
   "execution_count": 114,
   "metadata": {},
   "outputs": [
    {
     "name": "stdout",
     "output_type": "stream",
     "text": [
      "El valor del dado debe estar entre 1 y 6.\n"
     ]
    }
   ],
   "source": [
    "class ValorNoValidoError(Exception):\n",
    "    \"\"\"Excepción personalizada para indicar un valor no válido.\"\"\"\n",
    "    pass\n",
    "\n",
    "def lanzar_dado(valor):\n",
    "    if valor < 1 or valor > 6:\n",
    "        raise ValorNoValidoError(\"El valor del dado debe estar entre 1 y 6.\")\n",
    "    return valor\n",
    "\n",
    "try:\n",
    "    # Intenta lanzar un dado con un valor inválido\n",
    "    lanzar_dado(7)\n",
    "except ValorNoValidoError as e:\n",
    "    print(e)"
   ]
  },
  {
   "attachments": {},
   "cell_type": "markdown",
   "metadata": {},
   "source": [
    "### 7.2 Propiedades\n",
    "\n",
    "Las propiedades permiten que las clases manejen la obtención y establecimiento de valores, como si estuvieras accediendo directamente a un atributo."
   ]
  },
  {
   "cell_type": "code",
   "execution_count": 115,
   "metadata": {},
   "outputs": [
    {
     "name": "stdout",
     "output_type": "stream",
     "text": [
      "Estableciendo la vida...\n",
      "Obteniendo la vida...\n",
      "50\n"
     ]
    }
   ],
   "source": [
    "class Personaje:\n",
    "    def __init__(self, vida):\n",
    "        self._vida = vida\n",
    "\n",
    "    @property\n",
    "    def vida(self):\n",
    "        print(\"Obteniendo la vida...\")\n",
    "        return self._vida\n",
    "\n",
    "    @vida.setter\n",
    "    def vida(self, vida):\n",
    "        if vida < 0:\n",
    "            raise ValueError(\"La vida no puede ser negativa.\")\n",
    "        print(\"Estableciendo la vida...\")\n",
    "        self._vida = vida\n",
    "\n",
    "personaje = Personaje(100)\n",
    "personaje.vida = 50  # Salida: Estableciendo la vida...\n",
    "print(personaje.vida)  # Salida: Obteniendo la vida..."
   ]
  },
  {
   "cell_type": "code",
   "execution_count": 116,
   "metadata": {},
   "outputs": [
    {
     "name": "stdout",
     "output_type": "stream",
     "text": [
      "La vida debe estar entre 0 y 100.\n"
     ]
    }
   ],
   "source": [
    "class Personaje:\n",
    "    def __init__(self, vida):\n",
    "        self._vida = vida\n",
    "\n",
    "    @property\n",
    "    def vida(self):\n",
    "        return self._vida\n",
    "\n",
    "    @vida.setter\n",
    "    def vida(self, vida):\n",
    "        if vida < 0 or vida > 100:\n",
    "            raise ValueError(\"La vida debe estar entre 0 y 100.\")\n",
    "        self._vida = vida\n",
    "\n",
    "personaje = Personaje(100)\n",
    "try:\n",
    "    personaje.vida = 150  # Intenta establecer vida a 150\n",
    "except ValueError as e:\n",
    "    print(e)"
   ]
  },
  {
   "attachments": {},
   "cell_type": "markdown",
   "metadata": {},
   "source": [
    "### 7.3 Decoradores\n",
    "\n",
    "Los decoradores son una forma de modificar o extender el comportamiento de una función o método. Un decorador es una función que toma otra función y extiende el comportamiento de esta última sin modificar explícitamente su código fuente."
   ]
  },
  {
   "attachments": {},
   "cell_type": "markdown",
   "metadata": {},
   "source": [
    "En nuestro juego RPG, queremos registrar cada vez que un personaje recibe daño. Podemos hacerlo con un decorador."
   ]
  },
  {
   "cell_type": "code",
   "execution_count": 117,
   "metadata": {},
   "outputs": [
    {
     "name": "stdout",
     "output_type": "stream",
     "text": [
      "Personaje con vida 100 recibiendo daño 20...\n",
      "La vida del personaje es ahora 80.\n"
     ]
    }
   ],
   "source": [
    "def registrar_daño(func):\n",
    "    def envoltura(self, *args, **kwargs):\n",
    "        print(f\"Personaje con vida {self.vida} recibiendo daño {args[0]}...\")\n",
    "        return func(self, *args, **kwargs)\n",
    "    return envoltura\n",
    "\n",
    "class Personaje:\n",
    "    def __init__(self, vida):\n",
    "        self.vida = vida\n",
    "\n",
    "    @registrar_daño\n",
    "    def recibir_daño(self, daño):\n",
    "        self.vida -= daño\n",
    "        print(f\"La vida del personaje es ahora {self.vida}.\")\n",
    "\n",
    "personaje = Personaje(100)\n",
    "personaje.recibir_daño(20)"
   ]
  },
  {
   "attachments": {},
   "cell_type": "markdown",
   "metadata": {},
   "source": [
    "## Seccion 8: Clases Abstractas y Sobrecarga de Operadores\n",
    "8.1 Clases Abstractas\n",
    "\n",
    "Las clases abstractas son clases que no se pueden instanciar. Suelen actuar como \"plantillas\" para las clases hijas. Para hacer una clase abstracta en Python, usamos el módulo abc."
   ]
  },
  {
   "cell_type": "code",
   "execution_count": 118,
   "metadata": {},
   "outputs": [
    {
     "name": "stdout",
     "output_type": "stream",
     "text": [
      "Conan con fuerza 15\n",
      "¡Conan golpea con la espada por 15 puntos de daño!\n",
      "Merlin con fuerza 20\n",
      "¡Merlin lanza un hechizo mágico por 20 puntos de daño!\n"
     ]
    }
   ],
   "source": [
    "from abc import ABC, abstractmethod\n",
    "\n",
    "class Personaje(ABC):\n",
    "    def __init__(self, nombre, fuerza):\n",
    "        self.nombre = nombre\n",
    "        self.fuerza = fuerza\n",
    "\n",
    "    @abstractmethod\n",
    "    def ataque(self):\n",
    "        pass\n",
    "\n",
    "    def __str__(self):\n",
    "        return f\"{self.nombre} con fuerza {self.fuerza}\"\n",
    "\n",
    "class Guerrero(Personaje):\n",
    "    def ataque(self):\n",
    "        return f\"¡{self.nombre} golpea con la espada por {self.fuerza} puntos de daño!\"\n",
    "\n",
    "class Mago(Personaje):\n",
    "    def ataque(self):\n",
    "        return f\"¡{self.nombre} lanza un hechizo mágico por {self.fuerza} puntos de daño!\"\n",
    "\n",
    "guerrero = Guerrero(\"Conan\", 15)\n",
    "print(guerrero)\n",
    "print(guerrero.ataque())\n",
    "\n",
    "mago = Mago(\"Merlin\", 20)\n",
    "print(mago)\n",
    "print(mago.ataque())"
   ]
  },
  {
   "attachments": {},
   "cell_type": "markdown",
   "metadata": {},
   "source": [
    "La clase Personaje es ahora una clase abstracta porque tiene un método abstracto llamado ataque. Esto significa que no podemos crear una instancia de Personaje, pero podemos crear una subclase que implemente el método ataque.\n",
    "\n",
    "En este caso, Guerrero es una subclase de Personaje que implementa el método ataque. Esto significa que podemos crear una instancia de Guerrero y llamar a su método ataque."
   ]
  },
  {
   "attachments": {},
   "cell_type": "markdown",
   "metadata": {},
   "source": [
    "### 8.2 Sobrecarga de Operadores\n",
    "\n",
    "La sobrecarga de operadores en Python se refiere a la definición de operadores para trabajar con objetos de usuario definidos. Esto nos permite usar operadores como +, -, *, /, ==, etc., en nuestros objetos de clase personalizada."
   ]
  },
  {
   "cell_type": "code",
   "execution_count": 119,
   "metadata": {},
   "outputs": [
    {
     "name": "stdout",
     "output_type": "stream",
     "text": [
      "Conan & Merlin con fuerza 35\n",
      "El personaje más fuerte es: Merlin con fuerza 20\n",
      "Conan & Merlin con fuerza 300\n",
      "La relación de fuerza entre Conan y Merlin es 0.75\n",
      "¿El guerrero y el mago tienen el mismo poder? No\n"
     ]
    }
   ],
   "source": [
    "class Personaje:\n",
    "    def __init__(self, nombre, fuerza):\n",
    "        self.nombre = nombre\n",
    "        self.fuerza = fuerza\n",
    "\n",
    "    def __str__(self):\n",
    "        return f\"{self.nombre} con fuerza {self.fuerza}\"\n",
    "\n",
    "    def __add__(self, otro):\n",
    "        combinado = Personaje(self.nombre + \" & \" + otro.nombre, self.fuerza + otro.fuerza)\n",
    "        return combinado\n",
    "\n",
    "    def __sub__(self, otro):\n",
    "        if self.fuerza > otro.fuerza:\n",
    "            return self\n",
    "        else:\n",
    "            return otro\n",
    "\n",
    "    def __eq__(self, otro):\n",
    "        return self.fuerza == otro.fuerza\n",
    "    \n",
    "    def __mul__(self, otro):\n",
    "        combinado = Personaje(self.nombre + \" & \" + otro.nombre, self.fuerza * otro.fuerza)\n",
    "        return combinado\n",
    "\n",
    "    def __truediv__(self, otro):\n",
    "        if otro.fuerza != 0:\n",
    "            ratio = self.fuerza / otro.fuerza\n",
    "        else:\n",
    "            ratio = float('inf')\n",
    "        return f\"La relación de fuerza entre {self.nombre} y {otro.nombre} es {ratio}\"\n",
    "\n",
    "guerrero = Personaje(\"Conan\", 15)\n",
    "mago = Personaje(\"Merlin\", 20)\n",
    "\n",
    "equipo = guerrero + mago\n",
    "print(equipo)  # Salida: Conan & Merlin con fuerza 35\n",
    "\n",
    "mas_fuerte = guerrero - mago\n",
    "print(f\"El personaje más fuerte es: {mas_fuerte}\")  # Salida: El personaje más fuerte es: Merlin con fuerza 20\n",
    "\n",
    "combinacion_de_fuerzas = guerrero * mago\n",
    "print(combinacion_de_fuerzas)  # Salida: Conan & Merlin con fuerza 300\n",
    "\n",
    "proporcion_de_fuerzas = guerrero / mago\n",
    "print(proporcion_de_fuerzas)  # Salida: La relación de fuerza entre Conan y Merlin es 0.75\n",
    "\n",
    "iguales = guerrero == mago\n",
    "print(f\"¿El guerrero y el mago tienen el mismo poder? {'Sí' if iguales else 'No'}\")  # Salida: ¿Los personajes tienen la misma fuerza? N"
   ]
  },
  {
   "attachments": {},
   "cell_type": "markdown",
   "metadata": {},
   "source": [
    "En este caso, sobrecargamos los operadores +, -, *, / y == para la clase Personaje. Esto nos permite realizar operaciones intuitivas con objetos Personaje y definir exactamente lo que significan estas operaciones en el contexto de nuestro programa."
   ]
  }
 ],
 "metadata": {
  "kernelspec": {
   "display_name": "Python 3",
   "language": "python",
   "name": "python3"
  },
  "language_info": {
   "codemirror_mode": {
    "name": "ipython",
    "version": 3
   },
   "file_extension": ".py",
   "mimetype": "text/x-python",
   "name": "python",
   "nbconvert_exporter": "python",
   "pygments_lexer": "ipython3",
   "version": "3.11.2"
  },
  "orig_nbformat": 4
 },
 "nbformat": 4,
 "nbformat_minor": 2
}
