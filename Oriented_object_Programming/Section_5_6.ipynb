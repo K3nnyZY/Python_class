{
 "cells": [
  {
   "attachments": {},
   "cell_type": "markdown",
   "metadata": {},
   "source": [
    "## Sección 5: Objetos en Python, Paquetes y Módulos\n",
    "\n",
    "### 5.1 Todo en python es un objeto\n",
    "En Python, todas las entidades son objetos. Cada objeto tiene un tipo (como cadena, entero, función, clase, módulo, etc.) y una identidad (que es su dirección en memoria).\n",
    "\n",
    "Para conocer el tipo y la identidad de un objeto, puedes usar las funciones type() y id(), respectivamente."
   ]
  },
  {
   "cell_type": "code",
   "execution_count": 100,
   "metadata": {},
   "outputs": [
    {
     "name": "stdout",
     "output_type": "stream",
     "text": [
      "<class 'int'>\n",
      "4322044360\n",
      "<class 'str'>\n",
      "4435713200\n"
     ]
    }
   ],
   "source": [
    "x = 42\n",
    "print(type(x))  # Salida: <class 'int'>\n",
    "print(id(x))  # Salida: un número que representa la identidad de la memoria del objeto, puede variar.\n",
    "\n",
    "s = \"Hola, mundo\"\n",
    "print(type(s))  # Salida: <class 'str'>\n",
    "print(id(s))  # Salida: una identidad de memoria diferente."
   ]
  },
  {
   "attachments": {},
   "cell_type": "markdown",
   "metadata": {},
   "source": [
    "Las funciones, clases y módulos también son objetos:"
   ]
  },
  {
   "cell_type": "code",
   "execution_count": 101,
   "metadata": {},
   "outputs": [
    {
     "name": "stdout",
     "output_type": "stream",
     "text": [
      "<class 'module'>\n",
      "<class 'function'>\n",
      "<class 'type'>\n"
     ]
    }
   ],
   "source": [
    "import math\n",
    "\n",
    "def saludo():\n",
    "    return \"Hola\"\n",
    "\n",
    "class MiClase:\n",
    "    pass\n",
    "\n",
    "print(type(math))  # Salida: <class 'module'>\n",
    "print(type(saludo))  # Salida: <class 'function'>\n",
    "print(type(MiClase))  # Salida: <class 'type'>"
   ]
  },
  {
   "attachments": {},
   "cell_type": "markdown",
   "metadata": {},
   "source": [
    "### 5.2 Paquetes y Módulos\n",
    "Un módulo es un archivo Python que puede contener definiciones de funciones, clases y variables. Los módulos permiten organizar el código de manera lógica.\n",
    "\n",
    "Un paquete es una forma de organizar módulos relacionados. Esencialmente, es un directorio que contiene archivos .py y un archivo especial __init__.py.\n",
    "\n",
    "ejemplo:\n",
    "\n",
    "Supongamos que estás construyendo un videojuego y tienes la siguiente estructura de directorios:\n",
    "```\n",
    "videojuego/\n",
    "│\n",
    "├── __init__.py\n",
    "├── main.py\n",
    "│\n",
    "├── niveles/\n",
    "│   ├── __init__.py\n",
    "│   ├── nivel1.py\n",
    "│   └── nivel2.py\n",
    "│\n",
    "└── personajes/\n",
    "    ├── __init__.py\n",
    "    ├── heroe.py\n",
    "    └── villano.py\n",
    "```\n",
    "\n",
    "para importar un modulo o una funcion haremos:"
   ]
  },
  {
   "attachments": {},
   "cell_type": "markdown",
   "metadata": {},
   "source": [
    "```python\n",
    "# Importa todo el módulo\n",
    "import niveles.nivel1\n",
    "\n",
    "# Importa una función específica desde el módulo\n",
    "from niveles.nivel1 import iniciar_nivel\n",
    "```"
   ]
  },
  {
   "attachments": {},
   "cell_type": "markdown",
   "metadata": {},
   "source": [
    "para importar un paquete\n",
    "\n",
    "```python\n",
    "# Importa todo el paquete de personajes\n",
    "import personajes\n",
    "\n",
    "# Importa una clase específica desde el paquete\n",
    "from personajes import Heroe\n",
    "```\n",
    "\n",
    "El encapsulamiento de código en módulos y paquetes facilita la organización y la reutilización del código, además de evitar conflictos de nombres."
   ]
  },
  {
   "attachments": {},
   "cell_type": "markdown",
   "metadata": {},
   "source": [
    "## Seccion 6: Herencia y Polimorfismo\n",
    "\n",
    "### 6.1 Herencia Múltiple y Mixta\n",
    "\n",
    "En Python, una clase puede heredar de múltiples clases. Esto se conoce como herencia múltiple. Veamos un ejemplo en el contexto de un juego de rol:"
   ]
  },
  {
   "cell_type": "code",
   "execution_count": 102,
   "metadata": {},
   "outputs": [
    {
     "name": "stdout",
     "output_type": "stream",
     "text": [
      "El guerrero ataca con fuerza 10.\n",
      "El mago lanza un hechizo de maná 20.\n"
     ]
    }
   ],
   "source": [
    "class Guerrero:\n",
    "    def __init__(self, fuerza):\n",
    "        self.fuerza = fuerza\n",
    "\n",
    "    def ataque(self):\n",
    "        return f\"El guerrero ataca con fuerza {self.fuerza}.\"\n",
    "\n",
    "class Mago:\n",
    "    def __init__(self, maná):\n",
    "        self.maná = maná\n",
    "\n",
    "    def hechizo(self):\n",
    "        return f\"El mago lanza un hechizo de maná {self.maná}.\"\n",
    "\n",
    "class Paladín(Guerrero, Mago):  # Herencia múltiple\n",
    "    def __init__(self, fuerza, maná):\n",
    "        Guerrero.__init__(self, fuerza)  # Llamamos al constructor de Guerrero\n",
    "        Mago.__init__(self, maná)  # Llamamos al constructor de Mago\n",
    "\n",
    "paladín = Paladín(10, 20)\n",
    "print(paladín.ataque())  # Salida: El guerrero ataca con fuerza 10.\n",
    "print(paladín.hechizo())  # Salida: El mago lanza un hechizo de maná 20."
   ]
  },
  {
   "attachments": {},
   "cell_type": "markdown",
   "metadata": {},
   "source": [
    "### 6.2 Polimorfismo: Sobrecarga y Sobreescritura de métodos\n",
    "\n",
    "El polimorfismo se refiere a la capacidad de una entidad de tomar muchas formas. En Python, el polimorfismo se puede lograr de varias maneras, incluyendo la sobrecarga de métodos y la sobreescritura de métodos.\n",
    "\n",
    "- ***Sobrecarga de métodos:*** Aunque Python no soporta la sobrecarga de métodos en el sentido tradicional (varios métodos con el mismo nombre pero con diferentes parámetros), podemos obtener un comportamiento similar usando argumentos con valores por defecto o argumentos de longitud variable."
   ]
  },
  {
   "cell_type": "code",
   "execution_count": 103,
   "metadata": {},
   "outputs": [
    {
     "name": "stdout",
     "output_type": "stream",
     "text": [
      "Lanza hechizo de fuego con potencia 1.\n",
      "Lanza hechizo de hielo con potencia 5.\n"
     ]
    }
   ],
   "source": [
    "class Mago:\n",
    "    def hechizo(self, tipo=\"fuego\", potencia=1):\n",
    "        return f\"Lanza hechizo de {tipo} con potencia {potencia}.\"\n",
    "\n",
    "mago = Mago()\n",
    "print(mago.hechizo())  # Salida: Lanza hechizo de fuego con potencia 1.\n",
    "print(mago.hechizo(\"hielo\", 5))  # Salida: Lanza hechizo de hielo con potencia 5."
   ]
  },
  {
   "attachments": {},
   "cell_type": "markdown",
   "metadata": {},
   "source": [
    "- Sobreescritura de métodos: La sobreescritura de métodos ocurre cuando una subclase redefine un método que ya está presente en su superclase."
   ]
  },
  {
   "cell_type": "code",
   "execution_count": 104,
   "metadata": {},
   "outputs": [
    {
     "name": "stdout",
     "output_type": "stream",
     "text": [
      "El personaje ataca.\n",
      "El guerrero ataca con su espada.\n"
     ]
    }
   ],
   "source": [
    "class Personaje:\n",
    "    def ataque(self):\n",
    "        return \"El personaje ataca.\"\n",
    "    \n",
    "    def iniciar_ataque(personaje):\n",
    "        print(personaje.ataque())\n",
    "\n",
    "\n",
    "class Guerrero(Personaje):\n",
    "    def ataque(self):  # Sobreescritura del método ataque\n",
    "        return \"El guerrero ataca con su espada.\"\n",
    "\n",
    "personaje = Personaje()\n",
    "print(personaje.ataque())  # Salida: El personaje ataca.\n",
    "\n",
    "guerrero = Guerrero()\n",
    "print(guerrero.ataque()) "
   ]
  },
  {
   "attachments": {},
   "cell_type": "markdown",
   "metadata": {},
   "source": [
    "En este ejemplo, el método `ataque()` en la clase Guerrero sobrescribe el método `ataque()` en la clase `Personaje`.\n",
    "\n",
    "Además, el polimorfismo permite utilizar la misma interfaz para diferentes tipos. Podemos definir una función que tome un objeto `Personaje` y llame al método `ataque()`, sin importar si el objeto es una instancia de `Personaje` o una subclase de `Personaje`."
   ]
  },
  {
   "cell_type": "code",
   "execution_count": 105,
   "metadata": {},
   "outputs": [
    {
     "name": "stdout",
     "output_type": "stream",
     "text": [
      "El mago lanza un hechizo.\n",
      "El guerrero ataca con su espada.\n"
     ]
    }
   ],
   "source": [
    "class Mago(Personaje):\n",
    "    def ataque(self):\n",
    "        return \"El mago lanza un hechizo.\"\n",
    "\n",
    "def iniciar_ataque(personaje):\n",
    "    print(personaje.ataque())\n",
    "\n",
    "mago = Mago()\n",
    "iniciar_ataque(mago)  # Salida: Lanza hechizo de fuego con potencia 1.\n",
    "iniciar_ataque(guerrero)  # Salida: El guerrero ataca con su espada."
   ]
  },
  {
   "attachments": {},
   "cell_type": "markdown",
   "metadata": {},
   "source": [
    "Aquí, `iniciar_ataque()` es una función polimórfica que puede operar en objetos de la clase Personaje o en cualquier objeto que sea una subclase de Personaje.\n",
    "\n",
    "Espero que estos ejemplos más detallados te ayuden a entender mejor estos conceptos. En la próxima sección, discutiremos las excepciones en Python, las propiedades y los decoradores."
   ]
  }
 ],
 "metadata": {
  "kernelspec": {
   "display_name": "Python 3",
   "language": "python",
   "name": "python3"
  },
  "language_info": {
   "codemirror_mode": {
    "name": "ipython",
    "version": 3
   },
   "file_extension": ".py",
   "mimetype": "text/x-python",
   "name": "python",
   "nbconvert_exporter": "python",
   "pygments_lexer": "ipython3",
   "version": "3.11.2"
  },
  "orig_nbformat": 4
 },
 "nbformat": 4,
 "nbformat_minor": 2
}
