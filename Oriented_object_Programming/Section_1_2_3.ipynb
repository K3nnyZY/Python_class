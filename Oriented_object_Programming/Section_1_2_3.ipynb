{
 "cells": [
  {
   "attachments": {},
   "cell_type": "markdown",
   "metadata": {},
   "source": [
    "## Seccion 1:  Introducción a la Programación Orientada a Objetos: Clases y Objetos\n",
    "\n",
    "### 1.1 Introducción a la Programación Orientada a Objetos (OOP)\n",
    "\n",
    "La programación orientada a objetos (OOP) es un paradigma de programación que se basa en el concepto de \"objetos\", que pueden contener datos y código: datos en forma de campos (también conocidos como atributos o propiedades), y código, en forma de procedimientos (también conocidos como métodos).\n",
    "\n",
    "La OOP permite a los programadores crear sus propios tipos de datos en forma de clases. Cada clase es como un plano para la creación de objetos.\n",
    "\n",
    "Un objeto es una instancia de una clase. Cuando se crea un objeto de una clase, la clase se utiliza como un plan (o un conjunto de instrucciones) para construir el objeto."
   ]
  },
  {
   "attachments": {},
   "cell_type": "markdown",
   "metadata": {},
   "source": [
    "### 1.2 Uso de `self` y `__init__`\n",
    "Self es una referencia a la instancia actual de la clase y se usa para acceder a los atributos y métodos que pertenecen a la instancia.\n",
    "\n",
    "El método `__init__` es un método especial llamado constructor. Este método se ejecuta cuando creamos una nueva instancia de la clase. se llama automáticamente cuando creamos una nueva instancia de una clase. Es un método especial que se utiliza para inicializar el estado de un objeto.\n",
    "\n",
    "La práctica y la experimentación son esenciales para comprender cómo funcionan las clases y los objetos. Intenta crear tus propias clases y objetos, y experimenta con ellos para consolidar tu comprensión."
   ]
  },
  {
   "attachments": {},
   "cell_type": "markdown",
   "metadata": {},
   "source": [
    "### 1.3 Clases y Objetos\n",
    "En Python, una clase se define utilizando la palabra clave class, seguida del nombre de la clase con la primera letra en mayúscula. A continuación se muestra un ejemplo de cómo definir una clase:"
   ]
  },
  {
   "cell_type": "code",
   "execution_count": 35,
   "metadata": {},
   "outputs": [],
   "source": [
    "class Perro:\n",
    "    pass"
   ]
  },
  {
   "attachments": {},
   "cell_type": "markdown",
   "metadata": {},
   "source": [
    "En este caso, Perro es una clase que no tiene atributos ni métodos. Es una plantilla vacía. Pero podríamos querer representar un perro con más detalle. Quizás quisiéramos almacenar el nombre del perro y su raza. Para hacer esto, definimos los atributos dentro de la clase:"
   ]
  },
  {
   "cell_type": "code",
   "execution_count": 36,
   "metadata": {},
   "outputs": [
    {
     "name": "stdout",
     "output_type": "stream",
     "text": [
      "Fido\n",
      "Labrador\n"
     ]
    }
   ],
   "source": [
    "class Perro:\n",
    "    def __init__(self, nombre, raza):\n",
    "        self.nombre = nombre\n",
    "        self.raza = raza\n",
    "        \n",
    "\n",
    "mi_perro = Perro(\"Fido\", \"Labrador\")\n",
    "\n",
    "print(mi_perro.nombre)\n",
    "print(mi_perro.raza)"
   ]
  },
  {
   "attachments": {},
   "cell_type": "markdown",
   "metadata": {},
   "source": [
    "## Sección 2: Atributos y Métodos\n",
    "### 2.1 Atributos de Clase y Atributos de Instancia\n",
    "Los atributos en la programación orientada a objetos son variables que contienen datos asociados a una clase y a los objetos de esta.\n",
    "\n",
    "**Atributos de Clase:** Son atributos que pertenecen a la clase en lugar de a una instancia específica. Todos los objetos de la clase compartirán estos atributos.\n",
    "\n",
    "**Atributos de Instancia:** Son atributos que pertenecen a una instancia específica de la clase. Cada objeto de la clase tendrá su propia copia de estos atributos.\n",
    "\n",
    "Por ejemplo, consideremos una clase Perro. Todos los perros pueden ser identificados por una especie, que será un atributo de clase. Sin embargo, cada perro tendrá un nombre y una raza únicos, que serán atributos de instancia."
   ]
  },
  {
   "cell_type": "code",
   "execution_count": 37,
   "metadata": {},
   "outputs": [
    {
     "name": "stdout",
     "output_type": "stream",
     "text": [
      "Fido\n",
      "Labrador\n",
      "Canis lupus familiaris\n"
     ]
    }
   ],
   "source": [
    "class Perro:\n",
    "    # Atributo de clase\n",
    "    especie = \"Canis lupus familiaris\"\n",
    "\n",
    "    # Inicializador para definir los atributos de instancia\n",
    "    def __init__(self, nombre, raza):\n",
    "        self.nombre = nombre\n",
    "        self.raza = raza\n",
    "\n",
    "\n",
    "# Creación de un objeto de la clase Perro\n",
    "mi_perro = Perro(\"Fido\", \"Labrador\")\n",
    "\n",
    "# Accediendo a los atributos\n",
    "print(mi_perro.nombre)  # Salida: Fido\n",
    "print(mi_perro.raza)   # Salida: Labrador\n",
    "print(mi_perro.especie)  # Salida: Canis lupus familiaris"
   ]
  },
  {
   "attachments": {},
   "cell_type": "markdown",
   "metadata": {},
   "source": [
    "### 2.2 Métodos\n",
    "Los métodos son funciones que se definen dentro de una clase y se utilizan para realizar operaciones con los atributos de los objetos.\n",
    "\n",
    "Podemos expandir nuestra clase *Perro* para incluir un método, *descripcion*, que devolverá una descripción de nuestro perro."
   ]
  },
  {
   "cell_type": "code",
   "execution_count": 38,
   "metadata": {},
   "outputs": [
    {
     "name": "stdout",
     "output_type": "stream",
     "text": [
      "Fido es un Labrador\n"
     ]
    }
   ],
   "source": [
    "class Perro:\n",
    "    especie = \"Canis lupus familiaris\"\n",
    "\n",
    "    def __init__(self, nombre, raza):\n",
    "        self.nombre = nombre\n",
    "        self.raza = raza\n",
    "\n",
    "    # Método de instancia\n",
    "    def descripcion(self):\n",
    "        return f\"{self.nombre} es un {self.raza}\"\n",
    "\n",
    "# Creación de un objeto de la clase Perro\n",
    "mi_perro = Perro(\"Fido\", \"Labrador\")\n",
    "\n",
    "# Uso del método descripcion\n",
    "print(mi_perro.descripcion())  "
   ]
  },
  {
   "attachments": {},
   "cell_type": "markdown",
   "metadata": {},
   "source": [
    "### 2.3 Métodos de Clase y Métodos Estáticos\n",
    "Python tiene dos tipos de métodos adicionales: métodos de clase y métodos estáticos.\n",
    "\n",
    "**Métodos de Clase:** Un método de clase es un método que está ligado a la clase y no a la instancia de la clase. Modifican el estado de la clase, no el del objeto."
   ]
  },
  {
   "cell_type": "code",
   "execution_count": 39,
   "metadata": {},
   "outputs": [
    {
     "name": "stdout",
     "output_type": "stream",
     "text": [
      "['sentarse', 'rodar']\n"
     ]
    }
   ],
   "source": [
    "class Perro:\n",
    "    _trucos = []  # variable de clase para almacenar los trucos de todos los perros\n",
    "\n",
    "    @classmethod\n",
    "    def agregar_truco(cls, truco):\n",
    "        cls._trucos.append(truco)\n",
    "\n",
    "Perro.agregar_truco('sentarse')\n",
    "Perro.agregar_truco('rodar')\n",
    "\n",
    "print(Perro._trucos) "
   ]
  },
  {
   "attachments": {},
   "cell_type": "markdown",
   "metadata": {},
   "source": [
    "**Métodos Estáticos:** Un método estático es un método que pertenece a una clase, no a una instancia de la clase. No pueden modificar ni el estado de la clase ni el de la instancia. Se utilizan en situaciones en las que necesitas algún comportamiento relacionado con la clase, pero no necesitas interactuar con la clase o con alguna instancia de la misma."
   ]
  },
  {
   "cell_type": "code",
   "execution_count": 40,
   "metadata": {},
   "outputs": [
    {
     "name": "stdout",
     "output_type": "stream",
     "text": [
      "¡Guau!\n"
     ]
    }
   ],
   "source": [
    "class Perro:\n",
    "    @staticmethod\n",
    "    def hacer_ruido():\n",
    "        return '¡Guau!'\n",
    "\n",
    "# Uso del método estático\n",
    "print(Perro.hacer_ruido())"
   ]
  },
  {
   "attachments": {},
   "cell_type": "markdown",
   "metadata": {},
   "source": [
    "En el ejemplo anterior, ***hacer_ruido*** es un método estático que no tiene ninguna referencia a una instancia o clase específica de Perro."
   ]
  },
  {
   "attachments": {},
   "cell_type": "markdown",
   "metadata": {},
   "source": [
    "## Lección 3: Estilo de Código, PEP 8, Docstrings, Typing y Type Hints\n",
    "#### 3.1 Estilo de Código y PEP 8\n",
    "\n",
    "PEP 8 es la guía de estilo para el código Python. Proporciona convenciones que ayudan a los programadores a escribir código que es más legible y consistente. Algunas reglas importantes de PEP 8 incluyen:\n",
    "\n",
    "- Utilizar 4 espacios por nivel de indentación.\n",
    "- Limitar las líneas a 79 caracteres.\n",
    "- Usar líneas en blanco para separar funciones y clases, y bloques grandes de código dentro de funciones.\n",
    "- Cuando sea posible, poner comentarios en una línea por sí solos.\n",
    "- Usar docstrings (más sobre esto en la siguiente sección).\n",
    "\n",
    "### 3.2 Docstrings\n",
    "\n",
    "Los docstrings son una forma de documentar tu código. Son muy útiles para explicar lo que hace una función, qué parámetros toma, qué devuelve y si lanza alguna excepción.\n",
    "\n",
    "\n"
   ]
  },
  {
   "cell_type": "code",
   "execution_count": 41,
   "metadata": {},
   "outputs": [],
   "source": [
    "def suma(a, b):\n",
    "    \"\"\"\n",
    "    Suma dos números y devuelve el resultado.\n",
    "\n",
    "    Arguments:\n",
    "    a -- primer número\n",
    "    b -- segundo número\n",
    "\n",
    "    returns: la suma de a y b\n",
    "    \"\"\"\n",
    "    return a + b"
   ]
  },
  {
   "attachments": {},
   "cell_type": "markdown",
   "metadata": {},
   "source": [
    "### 3.3 Typing y Type Hints\n",
    "\n",
    "A partir de Python 3.5, puedes utilizar type hints para indicar el tipo de los parámetros y el retorno de las funciones. Esto no cambia el comportamiento de tu programa, pero hace que sea más fácil de entender y menos propenso a errores."
   ]
  },
  {
   "cell_type": "code",
   "execution_count": 42,
   "metadata": {},
   "outputs": [],
   "source": [
    "def saludo(nombre: str) -> str:\n",
    "    return 'Hola, ' + nombre"
   ]
  }
 ],
 "metadata": {
  "kernelspec": {
   "display_name": "Python 3",
   "language": "python",
   "name": "python3"
  },
  "language_info": {
   "codemirror_mode": {
    "name": "ipython",
    "version": 3
   },
   "file_extension": ".py",
   "mimetype": "text/x-python",
   "name": "python",
   "nbconvert_exporter": "python",
   "pygments_lexer": "ipython3",
   "version": "3.11.2"
  },
  "orig_nbformat": 4
 },
 "nbformat": 4,
 "nbformat_minor": 2
}
