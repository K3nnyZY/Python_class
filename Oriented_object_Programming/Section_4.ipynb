{
 "cells": [
  {
   "attachments": {},
   "cell_type": "markdown",
   "metadata": {},
   "source": [
    "## Sección 4: Encapsulamiento, Composición e Herencia\n",
    "\n",
    "4.1 Encapsulamiento\n",
    "\n",
    "El encapsulamiento es un concepto fundamental de la programación orientada a objetos. Se refiere a la idea de que los detalles de implementación de una clase deben mantenerse ocultos, y solo se debe exponer una interfaz pública.\n",
    "\n",
    "En Python, aunque no existe una verdadera forma de crear atributos privados, se puede indicar que un atributo es interno utilizando un guion bajo al principio (_atributo). Si realmente se quiere evitar el acceso, se puede utilizar doble guion bajo (__atributo)."
   ]
  },
  {
   "cell_type": "code",
   "execution_count": 34,
   "metadata": {},
   "outputs": [
    {
     "name": "stdout",
     "output_type": "stream",
     "text": [
      "Depósito exitoso. Nuevo balance: 6000\n",
      "Retiro exitoso. Nuevo balance: 4000\n",
      "4000\n",
      "1234567890\n"
     ]
    }
   ],
   "source": [
    "class CuentaBancaria:\n",
    "    def __init__(self, titular, balance):\n",
    "        self.titular = titular\n",
    "        self._balance = balance  # Pretendemos que sea para uso interno (protegido)\n",
    "        self.__numero = self._generar_numero_cuenta()  # Doble guion bajo para ocultar (privado)\n",
    "\n",
    "    def _generar_numero_cuenta(self):\n",
    "        # Implementación de la generación de un número de cuenta\n",
    "        return 1234567890\n",
    "\n",
    "    def depositar(self, monto):\n",
    "        self._balance += monto\n",
    "        print(f\"Depósito exitoso. Nuevo balance: {self._balance}\")\n",
    "\n",
    "    def retirar(self, monto):\n",
    "        if monto <= self._balance:\n",
    "            self._balance -= monto\n",
    "            print(f\"Retiro exitoso. Nuevo balance: {self._balance}\")\n",
    "        else:\n",
    "            print(\"Balance insuficiente.\")\n",
    "\n",
    "    def obtener_balance(self):\n",
    "        return self._balance\n",
    "\n",
    "    def obtener_numero_cuenta(self):\n",
    "        return self.__numero\n",
    "\n",
    "cuenta = CuentaBancaria('Pedro', 5000)\n",
    "cuenta.depositar(1000)\n",
    "cuenta.retirar(2000)\n",
    "print(cuenta.obtener_balance()) \n",
    "print(cuenta.obtener_numero_cuenta())  "
   ]
  },
  {
   "attachments": {},
   "cell_type": "markdown",
   "metadata": {},
   "source": [
    "#### otro ejemplo (Juego)"
   ]
  },
  {
   "cell_type": "code",
   "execution_count": 35,
   "metadata": {},
   "outputs": [
    {
     "name": "stdout",
     "output_type": "stream",
     "text": [
      "Gamer007\n",
      "10\n"
     ]
    }
   ],
   "source": [
    "class Jugador:\n",
    "    def __init__(self, nickname, nivel):\n",
    "        self._nickname = nickname  # atributo protegido\n",
    "        self.__nivel = nivel  # atributo privado\n",
    "\n",
    "    def mostrar_nickname(self):\n",
    "        return self._nickname\n",
    "\n",
    "    def mostrar_nivel(self):\n",
    "        return self.__nivel\n",
    "\n",
    "jugador = Jugador(\"Gamer007\", 10)\n",
    "print(jugador.mostrar_nickname())\n",
    "print(jugador.mostrar_nivel())  "
   ]
  },
  {
   "attachments": {},
   "cell_type": "markdown",
   "metadata": {},
   "source": [
    "### 4.2 Composición\n",
    "\n",
    "La composición nos permite construir objetos complejos utilizando otros objetos. Es una forma poderosa de modelar relaciones de tipo \"tiene un\" en nuestros programas. En un juego, por ejemplo, podrías tener una clase Personaje que esté compuesta por objetos Inventario, Armadura, Salud, etc."
   ]
  },
  {
   "cell_type": "code",
   "execution_count": 36,
   "metadata": {},
   "outputs": [
    {
     "name": "stdout",
     "output_type": "stream",
     "text": [
      "Hola Aventurero!\n",
      "Item Espada de fuego añadido al inventario!\n"
     ]
    }
   ],
   "source": [
    "class Inventario:\n",
    "    def __init__(self):\n",
    "        self.items = []\n",
    "\n",
    "    def agregar_item(self, item):\n",
    "        self.items.append(item)\n",
    "        print(f\"Item {item} añadido al inventario!\")\n",
    "\n",
    "class Personaje:\n",
    "    def __init__(self, nombre):\n",
    "        self.nombre = nombre\n",
    "        self.inventario = Inventario()\n",
    "\n",
    "    def recoger_item(self, item):\n",
    "        self.inventario.agregar_item(item)\n",
    "        \n",
    "\n",
    "personaje = Personaje(\"Aventurero\")\n",
    "print(f\"Hola {personaje.nombre}!\")\n",
    "personaje.recoger_item(\"Espada de fuego\")"
   ]
  },
  {
   "attachments": {},
   "cell_type": "markdown",
   "metadata": {},
   "source": [
    "#### otro ejemplo"
   ]
  },
  {
   "cell_type": "code",
   "execution_count": 37,
   "metadata": {},
   "outputs": [
    {
     "name": "stdout",
     "output_type": "stream",
     "text": [
      "CPU: Intel i7-9700K\n",
      "GPU: Nvidia RTX 3080\n"
     ]
    }
   ],
   "source": [
    "class CPU:\n",
    "    def __init__(self, marca, modelo):\n",
    "        self.marca = marca\n",
    "        self.modelo = modelo\n",
    "\n",
    "    def obtener_info(self):\n",
    "        return f\"CPU: {self.marca} {self.modelo}\"\n",
    "\n",
    "class GPU:\n",
    "    def __init__(self, marca, modelo):\n",
    "        self.marca = marca\n",
    "        self.modelo = modelo\n",
    "\n",
    "    def obtener_info(self):\n",
    "        return f\"GPU: {self.marca} {self.modelo}\"\n",
    "\n",
    "class Computadora:\n",
    "    def __init__(self, cpu, gpu):\n",
    "        self.cpu = cpu\n",
    "        self.gpu = gpu\n",
    "\n",
    "    def obtener_especificaciones(self):\n",
    "        print(self.cpu.obtener_info())\n",
    "        print(self.gpu.obtener_info())\n",
    "\n",
    "cpu = CPU('Intel', 'i7-9700K')\n",
    "gpu = GPU('Nvidia', 'RTX 3080')\n",
    "pc = Computadora(cpu, gpu)\n",
    "pc.obtener_especificaciones()"
   ]
  },
  {
   "attachments": {},
   "cell_type": "markdown",
   "metadata": {},
   "source": [
    "### 4.3 Herencia\n",
    "\n",
    "La herencia permite definir nuevas clases basadas en clases existentes, lo que nos da un mecanismo para reutilizar el código. Podemos agregar o sobrescribir métodos y atributos en nuestras subclases.\n",
    "\n",
    "En el contexto de un juego, podrías tener una superclase Enemigo con varias subclases como Orco, Trol, Dragon, cada una con sus propias características y comportamientos específicos."
   ]
  },
  {
   "cell_type": "code",
   "execution_count": 38,
   "metadata": {},
   "outputs": [
    {
     "name": "stdout",
     "output_type": "stream",
     "text": [
      "Gorbag ataca!\n",
      "Gorbag ataca con una fuerza de 20!\n"
     ]
    }
   ],
   "source": [
    "class Enemigo:\n",
    "    def __init__(self, nombre, vida):\n",
    "        self.nombre = nombre\n",
    "        self.vida = vida\n",
    "\n",
    "    def atacar(self):\n",
    "        print(f\"{self.nombre} ataca!\")\n",
    "\n",
    "class Orco(Enemigo):\n",
    "    def __init__(self, nombre, vida, fuerza):\n",
    "        super().__init__(nombre, vida)\n",
    "        self.fuerza = fuerza\n",
    "\n",
    "    def atacar(self):\n",
    "        super().atacar()\n",
    "        print(f\"{self.nombre} ataca con una fuerza de {self.fuerza}!\")\n",
    "\n",
    "orco = Orco(\"Gorbag\", 100, 20)\n",
    "orco.atacar() "
   ]
  },
  {
   "attachments": {},
   "cell_type": "markdown",
   "metadata": {},
   "source": [
    "### 4.4 Métodos especiales en Python\n",
    "\n",
    "Los métodos `__str__` y `__repr__` en Python son usados para crear representaciones en cadena de caracteres de los objetos. El método `__str__` es llamado por la función str(objeto) y es usado para una representación \"amigable\" del objeto. Por otro lado, `__repr__` es llamado por repr(objeto) y debería retornar una cadena que represente una expresión de Python válida que pueda ser usada para recrear el objeto.\n",
    "\n",
    "El método `__eq__` es usado para personalizar la comparación de igualdad entre dos objetos. Si no se sobrescribe, todos los objetos son diferentes entre sí, incluso si tienen los mismos atributos.\n",
    "\n",
    "El método `__hash__` se usa para que los objetos sean utilizables como elementos de un conjunto o claves de un diccionario. Por defecto, `__hash__` retorna un valor único para cada objeto."
   ]
  },
  {
   "cell_type": "code",
   "execution_count": 39,
   "metadata": {},
   "outputs": [
    {
     "name": "stdout",
     "output_type": "stream",
     "text": [
      "Item Espada de fuego añadido al inventario!\n",
      "Personaje: Aventurero, Inventario: ['Espada de fuego']\n",
      "True\n",
      "{<Personaje nombre=Aventurero inventario=['Espada de fuego']>: 'Nivel 2'}\n"
     ]
    }
   ],
   "source": [
    "class Personaje:\n",
    "    def __init__(self, nombre):\n",
    "        self.nombre = nombre\n",
    "        self.inventario = Inventario()\n",
    "\n",
    "    def recoger_item(self, item):\n",
    "        self.inventario.agregar_item(item)\n",
    "\n",
    "    def __str__(self):\n",
    "        return f\"Personaje: {self.nombre}, Inventario: {self.inventario.items}\"\n",
    "\n",
    "    def __repr__(self):\n",
    "        return f\"<Personaje nombre={self.nombre} inventario={self.inventario.items}>\"\n",
    "\n",
    "    def __eq__(self, otro_personaje):\n",
    "        if isinstance(otro_personaje, Personaje):\n",
    "            return self.nombre == otro_personaje.nombre\n",
    "\n",
    "    def __hash__(self):\n",
    "        return hash(self.nombre)\n",
    "\n",
    "personaje1 = Personaje(\"Aventurero\")\n",
    "personaje1.recoger_item(\"Espada de fuego\")\n",
    "print(personaje1)  # Usará __str__\n",
    "personaje1  # Usará __repr__\n",
    "\n",
    "personaje2 = Personaje(\"Aventurero\")\n",
    "print(personaje1 == personaje2)  # True, usa __eq__\n",
    "\n",
    "mis_personajes = {personaje1: \"Nivel 1\", personaje2: \"Nivel 2\"}  # Usará __hash__\n",
    "print(mis_personajes)"
   ]
  }
 ],
 "metadata": {
  "kernelspec": {
   "display_name": "Python 3",
   "language": "python",
   "name": "python3"
  },
  "language_info": {
   "codemirror_mode": {
    "name": "ipython",
    "version": 3
   },
   "file_extension": ".py",
   "mimetype": "text/x-python",
   "name": "python",
   "nbconvert_exporter": "python",
   "pygments_lexer": "ipython3",
   "version": "3.11.2"
  },
  "orig_nbformat": 4
 },
 "nbformat": 4,
 "nbformat_minor": 2
}
