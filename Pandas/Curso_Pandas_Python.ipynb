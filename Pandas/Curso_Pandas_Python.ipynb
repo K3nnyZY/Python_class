{
  "cells": [
    {
      "cell_type": "markdown",
      "id": "9fc27877-9c89-451e-bcec-cd3a2d89e597",
      "metadata": {
        "noteable": {
          "cell_type": "markdown"
        }
      },
      "source": [
        "## 1. Introducción a Pandas\n",
        "\n",
        "### Historia y propósito de Pandas\n",
        "\n",
        "Pandas, que significa \"Python Data Analysis Library\", fue desarrollado por Wes McKinney en 2008 mientras trabajaba en AQR Capital Management. La necesidad de una herramienta de análisis y manipulación de datos de alto rendimiento llevó al desarrollo de Pandas. Desde su creación, ha ganado mucha popularidad en la comunidad de análisis de datos y ciencia de datos debido a su flexibilidad y facilidad de uso.\n",
        "\n",
        "La biblioteca Pandas proporciona estructuras de datos y funciones esenciales para trabajar de manera eficiente con datos estructurados, incluidos datos heterogéneos, y es ampliamente utilizada en la academia y la industria."
      ]
    },
    {
      "cell_type": "markdown",
      "id": "07d5b387-4b54-4aa2-8fde-2ba1743aad74",
      "metadata": {
        "noteable": {
          "cell_type": "markdown"
        }
      },
      "source": [
        "### Comparación con otras herramientas\n",
        "\n",
        "Antes de la existencia de Pandas, los analistas y científicos de datos dependían en gran medida de lenguajes como R o herramientas especializadas como Excel para el análisis de datos. Sin embargo, Pandas ha cambiado el juego en varios aspectos:\n",
        "\n",
        "- **Flexibilidad**: A diferencia de Excel, que tiene limitaciones en cuanto al tamaño de los datos, Pandas puede manejar fácilmente grandes conjuntos de datos.\n",
        "- **Integración con Python**: Al ser una biblioteca de Python, Pandas se integra perfectamente con otras bibliotecas populares como NumPy, Matplotlib y Scikit-learn, lo que facilita todo el proceso de análisis de datos y modelado.\n",
        "- **Manipulación de datos**: Las operaciones de manipulación de datos, como la agrupación, el pivoteo y la transformación, son más intuitivas y potentes en Pandas en comparación con otras herramientas.\n",
        "- **Rendimiento**: Pandas está optimizado para el rendimiento, especialmente cuando se utiliza con bibliotecas de bajo nivel como NumPy.\n",
        "- **Comunidad**: Dada su popularidad, hay una amplia comunidad y muchos recursos disponibles para aprender y resolver problemas relacionados con Pandas."
      ]
    },
    {
      "cell_type": "markdown",
      "id": "91db469e-3e9e-47c4-9b16-bddfb51aadb6",
      "metadata": {
        "noteable": {
          "cell_type": "markdown"
        }
      },
      "source": [
        "### Instalación y configuración\n",
        "\n",
        "Para comenzar a trabajar con Pandas, primero debemos instalarlo. Aunque existen varias formas de instalar Pandas, la más común es a través de `pip`, el sistema de gestión de paquetes de Python.\n",
        "\n",
        "```python\n",
        "!pip install pandas\n",
        "```\n",
        "\n",
        "Una vez instalado, podemos verificar la versión de Pandas:\n",
        "\n",
        "Es importante asegurarse de tener una versión actualizada de Pandas, ya que las versiones más recientes suelen incluir correcciones de errores, mejoras de rendimiento y nuevas características."
      ]
    },
    {
      "cell_type": "code",
      "execution_count": 1,
      "id": "b9ad6eaf",
      "metadata": {},
      "outputs": [
        {
          "name": "stdout",
          "output_type": "stream",
          "text": [
            "1.5.3\n"
          ]
        }
      ],
      "source": [
        "import pandas as pd\n",
        "print(pd.__version__)"
      ]
    },
    {
      "cell_type": "markdown",
      "id": "79bd120f-cda5-453c-81ff-ad064fb9a4ac",
      "metadata": {
        "noteable": {
          "cell_type": "markdown"
        }
      },
      "source": [
        "## 2. Fundamentos de Pandas\n",
        "\n",
        "### Estructuras de datos: Series y DataFrames\n",
        "\n",
        "Pandas proporciona dos estructuras de datos principales: `Series` y `DataFrames`.\n",
        "\n",
        "- **Series**: Es un array unidimensional etiquetado capaz de contener cualquier tipo de datos. Las etiquetas son conocidas como índice."
      ]
    },
    {
      "cell_type": "code",
      "execution_count": 8,
      "id": "8c436c02",
      "metadata": {},
      "outputs": [
        {
          "name": "stdout",
          "output_type": "stream",
          "text": [
            "0      1\n",
            "1      3\n",
            "2      5\n",
            "3    inf\n",
            "4      6\n",
            "5      8\n",
            "dtype: object\n"
          ]
        }
      ],
      "source": [
        "s = pd.Series([1, 3, 5,\"inf\", 6, 8])\n",
        "print(s)"
      ]
    },
    {
      "cell_type": "markdown",
      "id": "7a45c56b",
      "metadata": {},
      "source": [
        "- **DataFrame**: Es una estructura bidimensional, similar a una hoja de cálculo o una tabla SQL, compuesta por columnas de diferentes tipos. Es la estructura más comúnmente utilizada en Pandas para manipulación de datos."
      ]
    },
    {
      "cell_type": "code",
      "execution_count": 6,
      "id": "314d0029",
      "metadata": {},
      "outputs": [
        {
          "data": {
            "text/html": [
              "<div>\n",
              "<style scoped>\n",
              "    .dataframe tbody tr th:only-of-type {\n",
              "        vertical-align: middle;\n",
              "    }\n",
              "\n",
              "    .dataframe tbody tr th {\n",
              "        vertical-align: top;\n",
              "    }\n",
              "\n",
              "    .dataframe thead th {\n",
              "        text-align: right;\n",
              "    }\n",
              "</style>\n",
              "<table border=\"1\" class=\"dataframe\">\n",
              "  <thead>\n",
              "    <tr style=\"text-align: right;\">\n",
              "      <th></th>\n",
              "      <th>Name</th>\n",
              "      <th>Age</th>\n",
              "      <th>City</th>\n",
              "    </tr>\n",
              "  </thead>\n",
              "  <tbody>\n",
              "    <tr>\n",
              "      <th>0</th>\n",
              "      <td>John</td>\n",
              "      <td>28</td>\n",
              "      <td>New York</td>\n",
              "    </tr>\n",
              "    <tr>\n",
              "      <th>1</th>\n",
              "      <td>Anna</td>\n",
              "      <td>22</td>\n",
              "      <td>Paris</td>\n",
              "    </tr>\n",
              "    <tr>\n",
              "      <th>2</th>\n",
              "      <td>Mike</td>\n",
              "      <td>32</td>\n",
              "      <td>Berlin</td>\n",
              "    </tr>\n",
              "  </tbody>\n",
              "</table>\n",
              "</div>"
            ],
            "text/plain": [
              "   Name  Age      City\n",
              "0  John   28  New York\n",
              "1  Anna   22     Paris\n",
              "2  Mike   32    Berlin"
            ]
          },
          "metadata": {},
          "output_type": "display_data"
        }
      ],
      "source": [
        "data = {'Name': ['John', 'Anna', 'Mike'],\n",
        "        'Age': [28, 22, 32],\n",
        "        'City': ['New York', 'Paris', 'Berlin']}\n",
        "df = pd.DataFrame(data)\n",
        "display(df)"
      ]
    },
    {
      "cell_type": "markdown",
      "id": "3634433c-acb9-4f32-9b89-eb36d915bfc4",
      "metadata": {
        "noteable": {
          "cell_type": "markdown"
        }
      },
      "source": [
        "### Creación, inspección y selección básica\n",
        "\n",
        "Crear y manipular `Series` y `DataFrames` es fundamental para trabajar con Pandas. Veamos cómo hacerlo:\n",
        "\n",
        "- **Creación de Series**:"
      ]
    },
    {
      "cell_type": "code",
      "execution_count": 9,
      "id": "eda944c0",
      "metadata": {},
      "outputs": [],
      "source": [
        "s = pd.Series([4, 7, -5, 3], index=['a', 'b', 'c', 'd'])"
      ]
    },
    {
      "cell_type": "markdown",
      "id": "0ec7bc8a",
      "metadata": {},
      "source": [
        "- **Creación de DataFrames**:\n",
        "\n",
        "Desde un diccionario de arrays o listas:"
      ]
    },
    {
      "cell_type": "code",
      "execution_count": 10,
      "id": "774e06b5",
      "metadata": {},
      "outputs": [],
      "source": [
        "data = {'state': ['Ohio', 'Ohio', 'Ohio', 'Nevada', 'Nevada', 'Nevada'],\n",
        "        'year': [2000, 2001, 2002, 2001, 2002, 2003],\n",
        "        'pop': [1.5, 1.7, 3.6, 2.4, 2.9, 3.2]}\n",
        "frame = pd.DataFrame(data)"
      ]
    },
    {
      "cell_type": "markdown",
      "id": "b226f4d6",
      "metadata": {},
      "source": [
        "- **Inspección**:\n",
        "\n",
        "Para ver las primeras filas de un DataFrame:"
      ]
    },
    {
      "cell_type": "code",
      "execution_count": 11,
      "id": "558b3fa1",
      "metadata": {},
      "outputs": [
        {
          "data": {
            "text/html": [
              "<div>\n",
              "<style scoped>\n",
              "    .dataframe tbody tr th:only-of-type {\n",
              "        vertical-align: middle;\n",
              "    }\n",
              "\n",
              "    .dataframe tbody tr th {\n",
              "        vertical-align: top;\n",
              "    }\n",
              "\n",
              "    .dataframe thead th {\n",
              "        text-align: right;\n",
              "    }\n",
              "</style>\n",
              "<table border=\"1\" class=\"dataframe\">\n",
              "  <thead>\n",
              "    <tr style=\"text-align: right;\">\n",
              "      <th></th>\n",
              "      <th>state</th>\n",
              "      <th>year</th>\n",
              "      <th>pop</th>\n",
              "    </tr>\n",
              "  </thead>\n",
              "  <tbody>\n",
              "    <tr>\n",
              "      <th>0</th>\n",
              "      <td>Ohio</td>\n",
              "      <td>2000</td>\n",
              "      <td>1.5</td>\n",
              "    </tr>\n",
              "    <tr>\n",
              "      <th>1</th>\n",
              "      <td>Ohio</td>\n",
              "      <td>2001</td>\n",
              "      <td>1.7</td>\n",
              "    </tr>\n",
              "    <tr>\n",
              "      <th>2</th>\n",
              "      <td>Ohio</td>\n",
              "      <td>2002</td>\n",
              "      <td>3.6</td>\n",
              "    </tr>\n",
              "    <tr>\n",
              "      <th>3</th>\n",
              "      <td>Nevada</td>\n",
              "      <td>2001</td>\n",
              "      <td>2.4</td>\n",
              "    </tr>\n",
              "    <tr>\n",
              "      <th>4</th>\n",
              "      <td>Nevada</td>\n",
              "      <td>2002</td>\n",
              "      <td>2.9</td>\n",
              "    </tr>\n",
              "  </tbody>\n",
              "</table>\n",
              "</div>"
            ],
            "text/plain": [
              "    state  year  pop\n",
              "0    Ohio  2000  1.5\n",
              "1    Ohio  2001  1.7\n",
              "2    Ohio  2002  3.6\n",
              "3  Nevada  2001  2.4\n",
              "4  Nevada  2002  2.9"
            ]
          },
          "execution_count": 11,
          "metadata": {},
          "output_type": "execute_result"
        }
      ],
      "source": [
        "frame.head()"
      ]
    },
    {
      "cell_type": "markdown",
      "id": "074c3630",
      "metadata": {},
      "source": [
        "\n",
        "Para obtener un resumen del DataFrame:"
      ]
    },
    {
      "cell_type": "code",
      "execution_count": 12,
      "id": "fe129dbf",
      "metadata": {},
      "outputs": [
        {
          "data": {
            "text/html": [
              "<div>\n",
              "<style scoped>\n",
              "    .dataframe tbody tr th:only-of-type {\n",
              "        vertical-align: middle;\n",
              "    }\n",
              "\n",
              "    .dataframe tbody tr th {\n",
              "        vertical-align: top;\n",
              "    }\n",
              "\n",
              "    .dataframe thead th {\n",
              "        text-align: right;\n",
              "    }\n",
              "</style>\n",
              "<table border=\"1\" class=\"dataframe\">\n",
              "  <thead>\n",
              "    <tr style=\"text-align: right;\">\n",
              "      <th></th>\n",
              "      <th>year</th>\n",
              "      <th>pop</th>\n",
              "    </tr>\n",
              "  </thead>\n",
              "  <tbody>\n",
              "    <tr>\n",
              "      <th>count</th>\n",
              "      <td>6.000000</td>\n",
              "      <td>6.000000</td>\n",
              "    </tr>\n",
              "    <tr>\n",
              "      <th>mean</th>\n",
              "      <td>2001.500000</td>\n",
              "      <td>2.550000</td>\n",
              "    </tr>\n",
              "    <tr>\n",
              "      <th>std</th>\n",
              "      <td>1.048809</td>\n",
              "      <td>0.836062</td>\n",
              "    </tr>\n",
              "    <tr>\n",
              "      <th>min</th>\n",
              "      <td>2000.000000</td>\n",
              "      <td>1.500000</td>\n",
              "    </tr>\n",
              "    <tr>\n",
              "      <th>25%</th>\n",
              "      <td>2001.000000</td>\n",
              "      <td>1.875000</td>\n",
              "    </tr>\n",
              "    <tr>\n",
              "      <th>50%</th>\n",
              "      <td>2001.500000</td>\n",
              "      <td>2.650000</td>\n",
              "    </tr>\n",
              "    <tr>\n",
              "      <th>75%</th>\n",
              "      <td>2002.000000</td>\n",
              "      <td>3.125000</td>\n",
              "    </tr>\n",
              "    <tr>\n",
              "      <th>max</th>\n",
              "      <td>2003.000000</td>\n",
              "      <td>3.600000</td>\n",
              "    </tr>\n",
              "  </tbody>\n",
              "</table>\n",
              "</div>"
            ],
            "text/plain": [
              "              year       pop\n",
              "count     6.000000  6.000000\n",
              "mean   2001.500000  2.550000\n",
              "std       1.048809  0.836062\n",
              "min    2000.000000  1.500000\n",
              "25%    2001.000000  1.875000\n",
              "50%    2001.500000  2.650000\n",
              "75%    2002.000000  3.125000\n",
              "max    2003.000000  3.600000"
            ]
          },
          "execution_count": 12,
          "metadata": {},
          "output_type": "execute_result"
        }
      ],
      "source": [
        "frame.describe()"
      ]
    },
    {
      "cell_type": "markdown",
      "id": "4745799f",
      "metadata": {},
      "source": [
        "- **Selección**:\n",
        "\n",
        "Seleccionar una columna por su nombre:"
      ]
    },
    {
      "cell_type": "code",
      "execution_count": 16,
      "id": "e733d6ab",
      "metadata": {},
      "outputs": [
        {
          "data": {
            "text/plain": [
              "0    2000\n",
              "1    2001\n",
              "2    2002\n",
              "3    2001\n",
              "4    2002\n",
              "5    2003\n",
              "Name: year, dtype: int64"
            ]
          },
          "execution_count": 16,
          "metadata": {},
          "output_type": "execute_result"
        }
      ],
      "source": [
        "frame['year']"
      ]
    },
    {
      "cell_type": "markdown",
      "id": "8a2303db",
      "metadata": {},
      "source": [
        "\n",
        "Seleccionar filas por su índice:"
      ]
    },
    {
      "cell_type": "code",
      "execution_count": 17,
      "id": "dd5f1926",
      "metadata": {},
      "outputs": [
        {
          "data": {
            "text/plain": [
              "state    Ohio\n",
              "year     2000\n",
              "pop       1.5\n",
              "Name: 0, dtype: object"
            ]
          },
          "execution_count": 17,
          "metadata": {},
          "output_type": "execute_result"
        }
      ],
      "source": [
        "frame.loc[0]"
      ]
    },
    {
      "cell_type": "markdown",
      "id": "8f751dfa",
      "metadata": {},
      "source": [
        "\n",
        "Estos son solo algunos ejemplos básicos. Pandas ofrece una amplia variedad de métodos y funcionalidades para manipular y analizar datos."
      ]
    },
    {
      "cell_type": "markdown",
      "id": "7e23c671-63fb-4d69-b34c-0b6c2c67c1f8",
      "metadata": {
        "noteable": {
          "cell_type": "markdown"
        }
      },
      "source": [
        "### Manejo de datos faltantes\n",
        "\n",
        "En el mundo real, es común encontrarse con conjuntos de datos que tienen valores faltantes. Pandas proporciona herramientas para detectar y manejar estos valores.\n",
        "\n",
        "- **Detectar datos faltantes**:\n",
        "\n",
        "Pandas utiliza el valor `NaN` (Not a Number) para representar datos faltantes. Podemos usar métodos como `isna()` y `notna()` para detectar datos faltantes.\n",
        "\n",
        "```python\n",
        "data = pd.Series([1, np.nan, 3.5, np.nan, 7])\n",
        "data.isna()\n",
        "```\n",
        "\n",
        "- **Filtrar datos faltantes**:\n",
        "\n",
        "Existen varios métodos para filtrar datos faltantes, como `dropna()`.\n",
        "\n",
        "```python\n",
        "data.dropna()\n",
        "```\n",
        "\n",
        "- **Rellenar datos faltantes**:\n",
        "\n",
        "En lugar de filtrar datos faltantes, a veces es útil rellenarlos con un valor específico o mediante un método de interpolación. Para ello, podemos usar `fillna()`.\n",
        "\n",
        "```python\n",
        "data.fillna(0)  # Rellenar con ceros\n",
        "data.fillna(data.mean())  # Rellenar con la media\n",
        "```\n",
        "\n",
        "El manejo adecuado de datos faltantes es esencial para obtener resultados precisos y significativos en el análisis de datos."
      ]
    },
    {
      "cell_type": "markdown",
      "id": "5c1e5280-02b8-4917-8b35-cf8a485377b8",
      "metadata": {
        "noteable": {
          "cell_type": "markdown"
        }
      },
      "source": [
        "### Atributos esenciales: `shape`, `index`, `columns`, `dtypes`\n",
        "\n",
        "Tanto las `Series` como los `DataFrames` en Pandas tienen varios atributos que nos permiten obtener información rápida sobre la estructura y el tipo de datos que contienen. Estos atributos son esenciales para comprender y explorar nuestros datos.\n",
        "\n",
        "- **shape**: Devuelve una tupla que representa la dimensionalidad del DataFrame o Serie.\n",
        "\n",
        "```python\n",
        "print(frame.shape)  # (6, 3) indica que hay 6 filas y 3 columnas\n",
        "```\n",
        "\n",
        "- **index**: Proporciona el índice (etiquetas de fila) del DataFrame o Serie.\n",
        "\n",
        "```python\n",
        "print(frame.index)  # RangeIndex(start=0, stop=6, step=1)\n",
        "```\n",
        "\n",
        "- **columns**: Solo para DataFrames, devuelve las columnas del DataFrame.\n",
        "\n",
        "```python\n",
        "print(frame.columns)  # Index(['state', 'year', 'pop'], dtype='object')\n",
        "```\n",
        "\n",
        "- **dtypes**: Devuelve los tipos de datos de las columnas para un DataFrame o el tipo de datos para una Serie.\n",
        "\n",
        "```python\n",
        "print(frame.dtypes)\n",
        "```\n",
        "\n",
        "```python\n",
        "print(s.dtypes)  # dtype('int64')\n",
        "```\n",
        "\n",
        "Estos atributos son especialmente útiles cuando estamos tratando con grandes conjuntos de datos y necesitamos obtener una visión general rápida de la estructura y el contenido de nuestros datos."
      ]
    },
    {
      "cell_type": "markdown",
      "id": "b345c690-a8a9-4410-bbb3-17d3c447ef27",
      "metadata": {
        "noteable": {
          "cell_type": "markdown"
        }
      },
      "source": [
        "## 3. Carga, Guardado y Formateo de Datos\n",
        "\n",
        "### Leer y escribir en diferentes formatos\n",
        "\n",
        "Pandas proporciona una variedad de métodos para cargar y guardar datos en diferentes formatos. Algunos de los formatos más comunes incluyen CSV, Excel, SQL, JSON y Parquet.\n",
        "\n",
        "- **CSV**:\n",
        "\n",
        "```python\n",
        "df = pd.read_csv('archivo.csv')\n",
        "df.to_csv('archivo_salida.csv', index=False)\n",
        "```\n",
        "\n",
        "- **Excel**:\n",
        "\n",
        "```python\n",
        "df = pd.read_excel('archivo.xlsx', sheet_name='Hoja1')\n",
        "df.to_excel('archivo_salida.xlsx', sheet_name='Hoja1', index=False)\n",
        "```\n",
        "\n",
        "- **SQL**:\n",
        "\n",
        "```python\n",
        "import sqlite3\n",
        "con = sqlite3.connect('base_de_datos.sqlite')\n",
        "df = pd.read_sql_query('SELECT * FROM tabla', con)\n",
        "df.to_sql('tabla', con, if_exists='replace')\n",
        "```\n",
        "\n",
        "- **JSON**:\n",
        "\n",
        "```python\n",
        "df = pd.read_json('archivo.json')\n",
        "df.to_json('archivo_salida.json')\n",
        "```\n",
        "\n",
        "- **Parquet**:\n",
        "\n",
        "```python\n",
        "df = pd.read_parquet('archivo.parquet')\n",
        "df.to_parquet('archivo_salida.parquet')\n",
        "```\n",
        "\n",
        "### Carga de grandes datasets con read_csv\n",
        "\n",
        "Cuando trabajamos con grandes conjuntos de datos, es posible que no podamos cargar todo el dataset en memoria. Pandas proporciona opciones para manejar estos casos:\n",
        "\n",
        "- **chunks**: Permite leer el archivo en bloques o fragmentos.\n",
        "\n",
        "```python\n",
        "chunk_iter = pd.read_csv('archivo_grande.csv', chunksize=1000)\n",
        "for chunk in chunk_iter:\n",
        "    process(chunk)  # Procesar cada fragmento de 1000 filas\n",
        "```\n",
        "\n",
        "- **dtypes**: Especificar el tipo de datos de las columnas puede reducir significativamente el uso de memoria.\n",
        "\n",
        "```python\n",
        "data_types = {'columna1': 'int32', 'columna2': 'float32'}\n",
        "df = pd.read_csv('archivo.csv', dtype=data_types)\n",
        "```\n",
        "\n",
        "### Conversión y formateo de tipos de datos\n",
        "\n",
        "Pandas permite convertir y formatear tipos de datos fácilmente:\n",
        "\n",
        "```python\n",
        "df['columna'] = df['columna'].astype('category')\n",
        "df['fecha'] = pd.to_datetime(df['fecha'])\n",
        "```\n",
        "\n",
        "Estas conversiones son útiles para optimizar el rendimiento y trabajar con datos en formatos específicos."
      ]
    },
    {
      "cell_type": "markdown",
      "id": "f92bcd99-a0b4-4972-bd08-05507906486d",
      "metadata": {
        "noteable": {
          "cell_type": "markdown"
        }
      },
      "source": [
        "## 4. Exploración y Análisis Descriptivo\n",
        "\n",
        "Una vez que hemos cargado nuestros datos en Pandas, el siguiente paso es explorarlos y comprender sus características. Pandas ofrece una serie de herramientas y métodos que facilitan esta tarea.\n",
        "\n",
        "### Métodos `head()`, `tail()`, `info()`, `describe()`\n",
        "\n",
        "Estos métodos proporcionan una visión general rápida de nuestros datos:\n",
        "\n",
        "- **head()**: Muestra las primeras filas del DataFrame o Serie.\n",
        "\n",
        "```python\n",
        "df.head()\n",
        "```\n",
        "\n",
        "- **tail()**: Muestra las últimas filas.\n",
        "\n",
        "```python\n",
        "df.tail()\n",
        "```\n",
        "\n",
        "- **info()**: Proporciona un resumen conciso del DataFrame, incluyendo el número de valores no nulos, tipos de datos y memoria utilizada.\n",
        "\n",
        "```python\n",
        "df.info()\n",
        "```\n",
        "\n",
        "- **describe()**: Genera estadísticas descriptivas, como el conteo, la media, la desviación estándar, los valores mínimos y máximos, y los cuartiles.\n",
        "\n",
        "```python\n",
        "df.describe()\n",
        "```\n",
        "\n",
        "### Análisis de valores únicos y nulos\n",
        "\n",
        "Es esencial comprender la distribución de valores únicos y la presencia de valores nulos en nuestros datos.\n",
        "\n",
        "- **value_counts()**: Devuelve una serie con la frecuencia de cada valor único.\n",
        "\n",
        "```python\n",
        "df['columna'].value_counts()\n",
        "```\n",
        "\n",
        "- **nunique()**: Devuelve el número de valores únicos.\n",
        "\n",
        "```python\n",
        "df['columna'].nunique()\n",
        "```\n",
        "\n",
        "Para detectar valores nulos, Pandas ofrece los métodos `isnull()` y `notnull()`, que devuelven una máscara booleana. También podemos usar `sum()` para contar el número de valores nulos en cada columna.\n",
        "\n",
        "```python\n",
        "df.isnull().sum()\n",
        "```\n",
        "\n",
        "Estas herramientas son fundamentales para la fase inicial de cualquier proyecto de análisis de datos, ya que nos permiten comprender la naturaleza y calidad de nuestros datos."
      ]
    },
    {
      "cell_type": "markdown",
      "id": "c88f172f-cf70-456f-8cae-a1c58259813a",
      "metadata": {
        "noteable": {
          "cell_type": "markdown"
        }
      },
      "source": [
        "## 5. Manipulación y Transformación de Datos\n",
        "\n",
        "Manipular y transformar datos es una parte esencial del análisis de datos. Pandas proporciona una amplia gama de herramientas y métodos para realizar estas tareas.\n",
        "\n",
        "### Operaciones con columnas y filas\n",
        "\n",
        "Puedes realizar operaciones aritméticas y de otro tipo en columnas y filas, similar a como lo harías con cualquier variable en Python.\n",
        "\n",
        "```python\n",
        "df['nueva_columna'] = df['columna1'] + df['columna2']\n",
        "df['columna1'] = df['columna1'] * 100\n",
        "```\n",
        "\n",
        "### Uso de `apply()`, `map()` y `applymap()`\n",
        "\n",
        "Estos métodos permiten aplicar funciones a los datos:\n",
        "\n",
        "- **apply()**: Aplica una función a lo largo de un eje del DataFrame.\n",
        "\n",
        "```python\n",
        "df['columna'].apply(lambda x: x**2)\n",
        "```\n",
        "\n",
        "- **map()**: Se utiliza para sustituir cada valor en una Serie por otro valor.\n",
        "\n",
        "```python\n",
        "df['columna'].map({\"valor1\": \"nuevo_valor1\", \"valor2\": \"nuevo_valor2\"})\n",
        "```\n",
        "\n",
        "- **applymap()**: Aplica una función a cada elemento de un DataFrame. Solo se utiliza en DataFrames.\n",
        "\n",
        "```python\n",
        "df.applymap(lambda x: x*100)\n",
        "```\n",
        "\n",
        "### Agregación con `groupby` y `pivot_table`\n",
        "\n",
        "Estos métodos son útiles para agrupar datos y realizar operaciones de agregación:\n",
        "\n",
        "- **groupby()**:\n",
        "\n",
        "```python\n",
        "df.groupby('columna').sum()\n",
        "```\n",
        "\n",
        "- **pivot_table()**:\n",
        "\n",
        "```python\n",
        "pd.pivot_table(df, values='columna_valor', index=['columna1'], columns=['columna2'])\n",
        "```\n",
        "\n",
        "### Transformaciones con `stack`, `unstack`, `melt` y `pivot`\n",
        "\n",
        "Estos métodos permiten reorganizar y transformar la estructura de los datos:\n",
        "\n",
        "- **stack()**: 'Apila' las columnas en el índice.\n",
        "\n",
        "```python\n",
        "df.stack()\n",
        "```\n",
        "\n",
        "- **unstack()**: Deshace el efecto de `stack()`.\n",
        "\n",
        "```python\n",
        "df.unstack()\n",
        "```\n",
        "\n",
        "- **melt()**: Transforma un DataFrame de formato ancho a largo.\n",
        "\n",
        "```python\n",
        "pd.melt(df, id_vars=['columna1'], value_vars=['columna2'])\n",
        "```\n",
        "\n",
        "- **pivot()**: Realiza una operación inversa a `melt()`, transformando datos de formato largo a ancho.\n",
        "\n",
        "```python\n",
        "df.pivot(index='columna1', columns='columna2', values='columna_valor')\n",
        "```\n",
        "\n",
        "Estas herramientas son esenciales para preparar y transformar datos para el análisis."
      ]
    },
    {
      "cell_type": "markdown",
      "id": "a8ad545e-9270-41a9-a8d7-d304d8deb29b",
      "metadata": {
        "noteable": {
          "cell_type": "markdown"
        }
      },
      "source": [
        "## 6. Limpieza de Datos\n",
        "\n",
        "La limpieza de datos es una de las tareas más cruciales en el análisis de datos. Los datos rara vez vienen en un formato perfecto y limpio, por lo que es esencial saber cómo tratar con datos faltantes, duplicados y otros problemas comunes.\n",
        "\n",
        "### Tratamiento de datos faltantes\n",
        "\n",
        "Los datos faltantes son comunes y pueden surgir por diversas razones. Pandas proporciona métodos para detectar, eliminar o imputar estos valores.\n",
        "\n",
        "- **Detectar datos faltantes**:\n",
        "\n",
        "```python\n",
        "df.isnull()\n",
        "df.notnull()\n",
        "```\n",
        "\n",
        "- **Eliminar datos faltantes**:\n",
        "\n",
        "```python\n",
        "df.dropna()  # Elimina filas con valores faltantes\n",
        "df.dropna(axis=1)  # Elimina columnas con valores faltantes\n",
        "```\n",
        "\n",
        "- **Imputar datos faltantes**:\n",
        "\n",
        "```python\n",
        "df.fillna(value)\n",
        "df['columna'].fillna(df['columna'].mean())  # Rellena con la media de la columna\n",
        "```\n",
        "\n",
        "### Eliminación de duplicados\n",
        "\n",
        "Los datos duplicados pueden distorsionar el análisis, por lo que es importante identificarlos y eliminarlos.\n",
        "\n",
        "```python\n",
        "df.duplicated()  # Devuelve una Serie booleana\n",
        "df.drop_duplicates()  # Elimina filas duplicadas\n",
        "```\n",
        "\n",
        "### Reemplazo y transformación de valores\n",
        "\n",
        "En ocasiones, es necesario reemplazar valores específicos o realizar transformaciones basadas en ciertas condiciones.\n",
        "\n",
        "```python\n",
        "df.replace({'valor_antiguo': 'valor_nuevo'})\n",
        "df['columna'] = df['columna'].apply(lambda x: 'nuevo_valor' if condición else x)\n",
        "```\n",
        "\n",
        "### Normalización y estandarización\n",
        "\n",
        "La normalización y estandarización son técnicas para escalar y transformar los datos para que tengan propiedades específicas, como una media de 0 y una desviación estándar de 1.\n",
        "\n",
        "- **Normalización** (escalar entre 0 y 1):\n",
        "\n",
        "```python\n",
        "df['columna'] = (df['columna'] - df['columna'].min()) / (df['columna'].max() - df['columna'].min())\n",
        "```\n",
        "\n",
        "- **Estandarización** (media 0 y desviación estándar 1):\n",
        "\n",
        "```python\n",
        "df['columna'] = (df['columna'] - df['columna'].mean()) / df['columna'].std()\n",
        "```\n",
        "\n",
        "Estas técnicas son especialmente útiles en el aprendizaje automático y otras aplicaciones de análisis avanzado."
      ]
    },
    {
      "cell_type": "markdown",
      "id": "d931ed33-c3ff-4e64-9370-9502ed8d46b1",
      "metadata": {
        "noteable": {
          "cell_type": "markdown"
        }
      },
      "source": [
        "## 7. Indexación Avanzada\n",
        "\n",
        "La indexación en Pandas es poderosa y permite acceder y modificar datos de manera eficiente. A continuación, se presentan algunas técnicas avanzadas de indexación.\n",
        "\n",
        "### Configuración y reseteo de índices\n",
        "\n",
        "Pandas permite establecer una o más columnas como índice y también resetear el índice a un rango numérico predeterminado.\n",
        "\n",
        "```python\n",
        "df.set_index('columna')  # Establecer una columna como índice\n",
        "df.reset_index()  # Resetear el índice\n",
        "```\n",
        "\n",
        "### MultiIndex y operaciones jerárquicas\n",
        "\n",
        "Pandas soporta la creación de índices jerárquicos o MultiIndex, lo que permite estructurar datos en múltiples niveles.\n",
        "\n",
        "```python\n",
        "arrays = [['A', 'A', 'B', 'B'], [1, 2, 1, 2]]\n",
        "index = pd.MultiIndex.from_arrays(arrays, names=('letra', 'número'))\n",
        "df_multi = pd.DataFrame(data, index=index)\n",
        "```\n",
        "\n",
        "### Selección con loc, iloc, xs y query\n",
        "\n",
        "Estos métodos permiten seleccionar datos de un DataFrame o Serie de manera eficiente.\n",
        "\n",
        "- **loc**: Selecciona por etiqueta.\n",
        "\n",
        "```python\n",
        "df.loc['fila', 'columna']\n",
        "```\n",
        "\n",
        "- **iloc**: Selecciona por posición.\n",
        "\n",
        "```python\n",
        "df.iloc[0, 0]\n",
        "```\n",
        "\n",
        "- **xs**: Selecciona datos a través de niveles de MultiIndex.\n",
        "\n",
        "```python\n",
        "df.xs(key='valor', level='nivel')\n",
        "```\n",
        "\n",
        "- **query**: Permite seleccionar datos usando una expresión de consulta.\n",
        "\n",
        "```python\n",
        "df.query('columna > valor')\n",
        "```\n",
        "\n",
        "Estas herramientas de indexación son esenciales para acceder y modificar datos en Pandas de manera eficiente."
      ]
    },
    {
      "cell_type": "markdown",
      "id": "0d880375-5c7a-490b-8e6b-ab2337892119",
      "metadata": {
        "noteable": {
          "cell_type": "markdown"
        }
      },
      "source": [
        "## 8. Combinación y Reestructuración de DataFrames\n",
        "\n",
        "Pandas proporciona herramientas para combinar y reestructurar DataFrames de diversas maneras, lo que permite integrar y organizar datos de múltiples fuentes.\n",
        "\n",
        "### Concatenación, fusión y unión\n",
        "\n",
        "Estas operaciones permiten combinar DataFrames y Series.\n",
        "\n",
        "- **concat()**: Concatena DataFrames a lo largo de un eje particular.\n",
        "\n",
        "```python\n",
        "pd.concat([df1, df2])\n",
        "```\n",
        "\n",
        "- **merge()**: Combina DataFrames basados en columnas comunes.\n",
        "\n",
        "```python\n",
        "pd.merge(df1, df2, on='columna_comun')\n",
        "```\n",
        "\n",
        "- **join()**: Combina DataFrames basados en índices o columnas.\n",
        "\n",
        "```python\n",
        "df1.join(df2, on='columna')\n",
        "```\n",
        "\n",
        "### Relaciones tipo SQL: inner, outer, left, right\n",
        "\n",
        "Al usar `merge()` y `join()`, puedes especificar cómo se deben combinar los DataFrames, similar a las operaciones JOIN en SQL.\n",
        "\n",
        "- **inner**: Solo las filas con claves comunes en ambos DataFrames se incluyen en el resultado.\n",
        "- **outer**: Todas las filas de ambos DataFrames se incluyen, llenando con NaN donde no hay coincidencias.\n",
        "- **left**: Todas las filas del DataFrame izquierdo y solo las filas del DataFrame derecho con claves coincidentes se incluyen.\n",
        "- **right**: Todas las filas del DataFrame derecho y solo las filas del DataFrame izquierdo con claves coincidentes se incluyen.\n",
        "\n",
        "```python\n",
        "pd.merge(df1, df2, on='columna_comun', how='inner')\n",
        "```\n",
        "\n",
        "Estas herramientas son esenciales para combinar y reestructurar datos en Pandas."
      ]
    },
    {
      "cell_type": "markdown",
      "id": "e63acbdf-7144-44b3-af54-49d7ed145f8f",
      "metadata": {
        "noteable": {
          "cell_type": "markdown"
        }
      },
      "source": [
        "## 9. Visualización Integrada con Pandas\n",
        "\n",
        "Pandas ofrece una interfaz de visualización integrada que se basa en Matplotlib, lo que facilita la creación de gráficos directamente desde DataFrames y Series.\n",
        "\n",
        "### Gráficos básicos\n",
        "\n",
        "Pandas proporciona métodos para crear diversos tipos de gráficos directamente desde un DataFrame o Serie.\n",
        "\n",
        "- **Línea**:\n",
        "\n",
        "```python\n",
        "df['columna'].plot(kind='line')\n",
        "```\n",
        "\n",
        "- **Barra**:\n",
        "\n",
        "```python\n",
        "df['columna'].plot(kind='bar')\n",
        "```\n",
        "\n",
        "- **Histograma**:\n",
        "\n",
        "```python\n",
        "df['columna'].plot(kind='hist')\n",
        "```\n",
        "\n",
        "- **Dispersión**:\n",
        "\n",
        "```python\n",
        "df.plot(x='columna1', y='columna2', kind='scatter')\n",
        "```\n",
        "\n",
        "- **Caja**:\n",
        "\n",
        "```python\n",
        "df['columna'].plot(kind='box')\n",
        "```\n",
        "\n",
        "### Estilización y personalización\n",
        "\n",
        "Pandas permite personalizar gráficos con colores, títulos, etiquetas y otros elementos estilísticos.\n",
        "\n",
        "```python\n",
        "df['columna'].plot(title='Mi Gráfico', color='red', grid=True)\n",
        "```\n",
        "\n",
        "### Integración con Matplotlib y Seaborn\n",
        "\n",
        "Aunque Pandas ofrece herramientas de visualización integradas, a menudo es útil utilizar Matplotlib o Seaborn para gráficos más avanzados o personalizados. Pandas se integra perfectamente con ambas bibliotecas.\n",
        "\n",
        "```python\n",
        "import matplotlib.pyplot as plt\n",
        "import seaborn as sns\n",
        "\n",
        "sns.histplot(df['columna'])\n",
        "plt.show()\n",
        "```\n",
        "\n",
        "La visualización es una herramienta esencial para explorar y entender tus datos, y Pandas facilita esta tarea con su integración de visualización."
      ]
    },
    {
      "cell_type": "markdown",
      "id": "f47ee646-edbe-4dea-9123-22eeb47afb26",
      "metadata": {
        "noteable": {
          "cell_type": "markdown"
        }
      },
      "source": [
        "## 10. Técnicas Avanzadas\n",
        "\n",
        "Pandas no solo es útil para tareas básicas de manipulación de datos, sino que también ofrece herramientas para técnicas más avanzadas.\n",
        "\n",
        "### Operaciones de ventana y series temporales\n",
        "\n",
        "Las operaciones de ventana son útiles para calcular estadísticas móviles, como medias móviles. Las series temporales en Pandas permiten trabajar con datos de fecha y hora.\n",
        "\n",
        "```python\n",
        "df['columna'].rolling(window=3).mean()  # Media móvil de 3 días\n",
        "df.resample('M').mean()  # Resample para obtener la media mensual\n",
        "```\n",
        "\n",
        "### Cadenas de texto y expresiones regulares\n",
        "\n",
        "Pandas proporciona métodos para trabajar con cadenas de texto, incluida la manipulación y búsqueda con expresiones regulares.\n",
        "\n",
        "```python\n",
        "df['columna_texto'].str.upper()  # Convertir a mayúsculas\n",
        "df['columna_texto'].str.contains('patrón')  # Buscar patrón en el texto\n",
        "```\n",
        "\n",
        "### Categorización y tipos de datos personalizados\n",
        "\n",
        "Pandas permite convertir columnas en tipos de datos categóricos, lo que puede mejorar el rendimiento y permitir operaciones específicas de categorías.\n",
        "\n",
        "```python\n",
        "df['columna'].astype('category')\n",
        "df['columna_categorica'].cat.categories  # Ver categorías\n",
        "```\n",
        "\n",
        "Estas técnicas avanzadas amplían las capacidades de Pandas y permiten realizar análisis y manipulaciones más sofisticados."
      ]
    },
    {
      "cell_type": "markdown",
      "id": "43b1b145-c79f-49c6-838f-ea5bc795b2e0",
      "metadata": {
        "noteable": {
          "cell_type": "markdown"
        }
      },
      "source": [
        "## 11. Optimización y Rendimiento\n",
        "\n",
        "Cuando se trabaja con grandes conjuntos de datos, la eficiencia y el rendimiento se convierten en aspectos cruciales. Pandas ofrece herramientas y técnicas para optimizar el rendimiento y hacer un uso eficiente de los recursos.\n",
        "\n",
        "### Uso eficiente de memoria con tipos de datos category y int8/float16\n",
        "\n",
        "Pandas permite especificar tipos de datos que consumen menos memoria, lo que puede ser útil para conjuntos de datos grandes.\n",
        "\n",
        "```python\n",
        "df['columna_categorica'].astype('category')  # Convertir a tipo category\n",
        "df['columna_entera'].astype('int8')  # Convertir a tipo entero de 8 bits\n",
        "```\n",
        "\n",
        "### Evaluación de expresiones con eval() y query()\n",
        "\n",
        "Estas funciones permiten evaluar expresiones de manera eficiente, especialmente en DataFrames grandes.\n",
        "\n",
        "```python\n",
        "df.eval('nueva_columna = columna1 + columna2')\n",
        "df.query('columna > valor')\n",
        "```\n",
        "\n",
        "### Paralelización y operaciones en bloque\n",
        "\n",
        "Pandas se integra con bibliotecas como Dask para permitir operaciones paralelizadas y trabajar con conjuntos de datos que no caben en memoria.\n",
        "\n",
        "```python\n",
        "import dask.dataframe as dd\n",
        "df_dask = dd.from_pandas(df, npartitions=4)\n",
        "```\n",
        "\n",
        "Optimizar el rendimiento y hacer un uso eficiente de los recursos es esencial cuando se trabaja con grandes conjuntos de datos en Pandas."
      ]
    },
    {
      "cell_type": "markdown",
      "id": "aecd11eb-bb6f-4e49-a6e1-51832bb61a1a",
      "metadata": {
        "noteable": {
          "cell_type": "markdown"
        }
      },
      "source": [
        "## 12. Casos Prácticos y Proyectos Reales\n",
        "\n",
        "La mejor manera de aprender y consolidar habilidades en Pandas es a través de la práctica con casos reales. A continuación, se presentan algunas ideas y ejemplos para proyectos prácticos.\n",
        "\n",
        "### Análisis exploratorio de un dataset real\n",
        "\n",
        "El análisis exploratorio de datos (EDA) es el primer paso en cualquier proyecto de análisis de datos. Consiste en visualizar, resumir y entender los datos antes de realizar análisis más avanzados.\n",
        "\n",
        "```python\n",
        "df = pd.read_csv('ruta/dataset.csv')\n",
        "df.describe()\n",
        "df['columna'].value_counts().plot(kind='bar')\n",
        "```\n",
        "\n",
        "### Limpieza y preparación de datos para Machine Learning\n",
        "\n",
        "Antes de entrenar modelos de Machine Learning, es esencial limpiar y preparar los datos. Esto puede incluir tratar valores faltantes, estandarizar características y codificar variables categóricas.\n",
        "\n",
        "```python\n",
        "from sklearn.preprocessing import StandardScaler, OneHotEncoder\n",
        "\n",
        "scaler = StandardScaler()\n",
        "df['columna_numerica'] = scaler.fit_transform(df[['columna_numerica']])\n",
        "\n",
        "encoder = OneHotEncoder()\n",
        "df_encoded = pd.get_dummies(df, columns=['columna_categorica'])\n",
        "```\n",
        "\n",
        "### Proyecto final: Análisis completo desde la carga hasta la visualización\n",
        "\n",
        "Un proyecto final podría consistir en tomar un dataset real, realizar un EDA, limpiar y preparar los datos, y finalmente visualizar los resultados y conclusiones. Este proyecto consolidaría todas las habilidades aprendidas en el curso y proporcionaría una experiencia práctica valiosa.\n",
        "\n",
        "```python\n",
        "df = pd.read_csv('ruta/dataset.csv')\n",
        "df_cleaned = limpiar_datos(df)\n",
        "resultados = analizar_datos(df_cleaned)\n",
        "visualizar_resultados(resultados)\n",
        "```\n",
        "\n",
        "Trabajar en casos prácticos y proyectos reales es esencial para consolidar el conocimiento y ganar experiencia en el análisis de datos con Pandas."
      ]
    },
    {
      "cell_type": "markdown",
      "id": "ebdc5a4a-6831-46f0-8004-2fa40b048741",
      "metadata": {
        "noteable": {
          "cell_type": "markdown"
        }
      },
      "source": [
        "## 14. Trabajando con Fechas y Tiempos\n",
        "\n",
        "Pandas proporciona herramientas robustas para trabajar con datos de fecha y hora, lo que es esencial en muchas aplicaciones de análisis de datos.\n",
        "\n",
        "### Conversión y Reconocimiento de Fechas\n",
        "\n",
        "Pandas puede convertir cadenas de texto en objetos de fecha y hora, y reconocer formatos de fecha comunes.\n",
        "\n",
        "```python\n",
        "df['columna_fecha'] = pd.to_datetime(df['columna_fecha'])\n",
        "```\n",
        "\n",
        "### Operaciones con Fechas\n",
        "\n",
        "Una vez que tienes una columna de fecha, puedes realizar una variedad de operaciones, como extraer el año, mes o día, calcular diferencias entre fechas y más.\n",
        "\n",
        "```python\n",
        "df['año'] = df['columna_fecha'].dt.year\n",
        "df['mes'] = df['columna_fecha'].dt.month\n",
        "diferencia = df['columna_fecha'].max() - df['columna_fecha'].min()\n",
        "```\n",
        "\n",
        "### Series Temporales\n",
        "\n",
        "Pandas es especialmente poderoso para trabajar con series temporales, lo que permite resamplear, desplazar y ventanas de tiempo.\n",
        "\n",
        "```python\n",
        "df.set_index('columna_fecha', inplace=True)\n",
        "df.resample('M').mean()  # Resample para obtener la media mensual\n",
        "df.shift(1)  # Desplazar datos una fila\n",
        "```\n",
        "\n",
        "Trabajar con fechas y tiempos es una parte esencial del análisis de datos, y Pandas ofrece las herramientas necesarias para manejar estas tareas de manera eficiente."
      ]
    }
  ],
  "metadata": {
    "kernel_info": {
      "name": "python3"
    },
    "kernelspec": {
      "display_name": "Python 3.9",
      "language": "python",
      "name": "python3"
    },
    "language_info": {
      "codemirror_mode": {
        "name": "ipython",
        "version": 3
      },
      "file_extension": ".py",
      "mimetype": "text/x-python",
      "name": "python",
      "nbconvert_exporter": "python",
      "pygments_lexer": "ipython3",
      "version": "3.11.2"
    },
    "noteable": {
      "last_delta_id": "14270cee-b9c4-47d5-bf86-a5569ab2796a"
    },
    "noteable-chatgpt": {
      "create_notebook": {
        "openai_conversation_id": "06611c8b-d3ce-58d3-90cd-a0a6780caf2c",
        "openai_ephemeral_user_id": "0d9610e3-e069-52e9-92f5-90d3045b0802",
        "openai_subdivision1_iso_code": "CO-ATL"
      }
    },
    "nteract": {
      "version": "noteable@2.9.0"
    },
    "selected_hardware_size": "small"
  },
  "nbformat": 4,
  "nbformat_minor": 5
}
