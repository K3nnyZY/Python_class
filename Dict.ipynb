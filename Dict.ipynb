{
 "cells": [
  {
   "attachments": {},
   "cell_type": "markdown",
   "metadata": {},
   "source": [
    "# Curso de diccionarios\n",
    "\n",
    "### 1. Introduccion a los diccionarios\n",
    "Los diccionarios en Python son estructuras de datos que almacenan pares de clave-valor. Son ideales para casos en los que necesitas asociar una clave única con un valor específico. Algunas características de los diccionarios en Python son:\n",
    "\n",
    "- Son mutables: puedes cambiar su contenido después de haberlos creado.\n",
    "- No tienen un orden específico: a diferencia de las listas y tuplas, los diccionarios no mantienen un orden de los elementos.\n",
    "- Las claves deben ser únicas y no pueden ser mutables, como listas o diccionarios. Los valores pueden ser de cualquier tipo."
   ]
  },
  {
   "attachments": {},
   "cell_type": "markdown",
   "metadata": {},
   "source": [
    "### 2. Creacion de diccionarios\n",
    "#### sintaxis basicas\n",
    "Para crear un diccionario, puedes usar llaves '{}' y separar las claves y los valores con dos puntos ':'."
   ]
  },
  {
   "cell_type": "code",
   "execution_count": 1923,
   "metadata": {},
   "outputs": [],
   "source": [
    "diccionario = {\"clave\": \"valor\"} # las claves no se repiten solo se asigna una unica clave"
   ]
  },
  {
   "attachments": {},
   "cell_type": "markdown",
   "metadata": {},
   "source": [
    "#### Diccionarios vacios\n",
    "puedes crear un diccionario vacio utilizando llaves sin contenido o la funcion `dict()`."
   ]
  },
  {
   "cell_type": "code",
   "execution_count": 1924,
   "metadata": {},
   "outputs": [],
   "source": [
    "diccionario_vacio = {}\n",
    "diccionario_vacion = dict()"
   ]
  },
  {
   "attachments": {},
   "cell_type": "markdown",
   "metadata": {},
   "source": [
    "#### Diccionarios con elementos\n",
    "Para crear un diccionario con elementos usando '{}' o `dict()`, simplemente proporciona los pares claves-valor separados por comas dentro de las llaves."
   ]
  },
  {
   "cell_type": "code",
   "execution_count": 1925,
   "metadata": {},
   "outputs": [],
   "source": [
    "diccionario_ejemplo = {\"nombre\": \"Juan\", \"edad\": 30, \"ciudad\": \"Colombia\"}\n",
    "diccionario_ejemplo_dict = dict(nombre = \"Juan\", edad = 30, ciudad = \"Colombia\")"
   ]
  },
  {
   "attachments": {},
   "cell_type": "markdown",
   "metadata": {},
   "source": [
    "### 3. Acceso y modificaciones de elementos\n",
    "####  Acceso a elementos usando claves\n",
    "Para acceder a un elemento en un diccionario, utiliza la clave entre corchetes `[]` después del nombre del diccionario."
   ]
  },
  {
   "cell_type": "code",
   "execution_count": 1926,
   "metadata": {},
   "outputs": [
    {
     "name": "stdout",
     "output_type": "stream",
     "text": [
      "Juan\n"
     ]
    }
   ],
   "source": [
    "nombre = diccionario_ejemplo[\"nombre\"]\n",
    "print(nombre)"
   ]
  },
  {
   "attachments": {},
   "cell_type": "markdown",
   "metadata": {},
   "source": [
    "####  Modificar valores\n",
    "Para modificar el valor de un elemento en un diccionario, simplemente asigna un nuevo valor a la clave correspondiente."
   ]
  },
  {
   "cell_type": "code",
   "execution_count": 1927,
   "metadata": {},
   "outputs": [],
   "source": [
    "diccionario_ejemplo[\"edad\"] = 31"
   ]
  },
  {
   "attachments": {},
   "cell_type": "markdown",
   "metadata": {},
   "source": [
    "####  Añadir nuevos elementos\n",
    "Para añadir nuevos elementos, simplemente asigna un valor a una nueva clave"
   ]
  },
  {
   "cell_type": "code",
   "execution_count": 1928,
   "metadata": {},
   "outputs": [
    {
     "name": "stdout",
     "output_type": "stream",
     "text": [
      "{'nombre': 'Juan', 'edad': 31, 'ciudad': 'Colombia', 'profesion': 'ingeniero'}\n"
     ]
    }
   ],
   "source": [
    "diccionario_ejemplo[\"profesion\"] = \"ingeniero\"\n",
    "print(diccionario_ejemplo)"
   ]
  },
  {
   "attachments": {},
   "cell_type": "markdown",
   "metadata": {},
   "source": [
    "####  Eliminar elemento con 'del'\n",
    "Para eliminar un elemento de un diccionario, usa la palabra clave del seguida del nombre `del` diccionario y la clave entre corchetes."
   ]
  },
  {
   "cell_type": "code",
   "execution_count": 1929,
   "metadata": {},
   "outputs": [
    {
     "name": "stdout",
     "output_type": "stream",
     "text": [
      "{'nombre': 'Juan', 'edad': 31, 'profesion': 'ingeniero'}\n"
     ]
    }
   ],
   "source": [
    "del diccionario_ejemplo[\"ciudad\"]\n",
    "print(diccionario_ejemplo)"
   ]
  },
  {
   "attachments": {},
   "cell_type": "markdown",
   "metadata": {},
   "source": [
    "####  Uso de pop() y popitem()\n",
    "Puedes utilizar el método pop() para eliminar un elemento y devolver su valor, propocionando la clave como argumento.\n",
    "El método popitem() elimina y devuelve un par clave-valor aleatorio como una tupla."
   ]
  },
  {
   "cell_type": "code",
   "execution_count": 1930,
   "metadata": {},
   "outputs": [
    {
     "name": "stdout",
     "output_type": "stream",
     "text": [
      "31\n"
     ]
    }
   ],
   "source": [
    "edad = diccionario_ejemplo.pop(\"edad\")\n",
    "print(edad)"
   ]
  },
  {
   "cell_type": "code",
   "execution_count": 1931,
   "metadata": {},
   "outputs": [
    {
     "name": "stdout",
     "output_type": "stream",
     "text": [
      "('profesion', 'ingeniero')\n"
     ]
    }
   ],
   "source": [
    "item_aleatorio = diccionario_ejemplo.popitem()\n",
    "print(item_aleatorio)"
   ]
  },
  {
   "attachments": {},
   "cell_type": "markdown",
   "metadata": {},
   "source": [
    "### 4. Metodos y operaciones con diccionarios\n",
    "Puedes utilizar los métodos keys(), values() e items() para obtener las claves, los valores y los pares clave-valor (como tuplas) de un diccionario, respectivamente."
   ]
  },
  {
   "cell_type": "code",
   "execution_count": 1932,
   "metadata": {},
   "outputs": [
    {
     "name": "stdout",
     "output_type": "stream",
     "text": [
      "dict_keys(['nombre']), dict_values(['Juan']), dict_items([('nombre', 'Juan')])\n"
     ]
    }
   ],
   "source": [
    "claves = diccionario_ejemplo.keys()\n",
    "valores = diccionario_ejemplo.values()\n",
    "items = diccionario_ejemplo.items()\n",
    "\n",
    "print(f\"{claves}, {valores}, {items}\")"
   ]
  },
  {
   "attachments": {},
   "cell_type": "markdown",
   "metadata": {},
   "source": [
    "#### get()\n",
    "El método get() te permite acceder al valor asociado con una clave, pero en lugar de generar un error si la clave no existe, devuelve un valor predeterminado que puedes especificar como segundo argumento."
   ]
  },
  {
   "cell_type": "code",
   "execution_count": 1933,
   "metadata": {},
   "outputs": [
    {
     "name": "stdout",
     "output_type": "stream",
     "text": [
      "No encontrado\n"
     ]
    }
   ],
   "source": [
    "nombre = diccionario_ejemplo.get(\"nombr\", \"No encontrado\")\n",
    "print(nombre)"
   ]
  },
  {
   "attachments": {},
   "cell_type": "markdown",
   "metadata": {},
   "source": [
    "#### update()\n",
    "El método update() te permite actualizar un diccionario con otro diccionario, combinando y sobrescribiendo los valores existentes con los nuevos."
   ]
  },
  {
   "cell_type": "code",
   "execution_count": 1934,
   "metadata": {},
   "outputs": [
    {
     "name": "stdout",
     "output_type": "stream",
     "text": [
      "{'nombre': 'Pedro', 'edad': 28}\n"
     ]
    }
   ],
   "source": [
    "diccionario_ejemplo.update({\"nombre\": \"Pedro\", \"edad\": 28})\n",
    "print(diccionario_ejemplo)"
   ]
  },
  {
   "attachments": {},
   "cell_type": "markdown",
   "metadata": {},
   "source": [
    "#### copy()\n",
    "El método copy() crea una copia superficial de un diccionario."
   ]
  },
  {
   "cell_type": "code",
   "execution_count": 1935,
   "metadata": {},
   "outputs": [
    {
     "name": "stdout",
     "output_type": "stream",
     "text": [
      "{'nombre': 'Pedro', 'edad': 28}\n"
     ]
    }
   ],
   "source": [
    "copia_diccionario = diccionario_ejemplo.copy()\n",
    "print(copia_diccionario)"
   ]
  },
  {
   "attachments": {},
   "cell_type": "markdown",
   "metadata": {},
   "source": [
    "#### clear()\n",
    "El método clear() elimina todos los elementos de un diccionario."
   ]
  },
  {
   "cell_type": "code",
   "execution_count": 1936,
   "metadata": {},
   "outputs": [
    {
     "name": "stdout",
     "output_type": "stream",
     "text": [
      "{}\n"
     ]
    }
   ],
   "source": [
    "copia_diccionario.clear()\n",
    "print(copia_diccionario)"
   ]
  },
  {
   "attachments": {},
   "cell_type": "markdown",
   "metadata": {},
   "source": [
    "#### setdefault()\n",
    "El método setdefault() te permite obtener el valor de una clave si existe; de lo contrario, establece un valor predeterminado y lo devuelve."
   ]
  },
  {
   "cell_type": "code",
   "execution_count": 1937,
   "metadata": {},
   "outputs": [
    {
     "name": "stdout",
     "output_type": "stream",
     "text": [
      "Desconocida\n",
      "{'nombre': 'Pedro', 'edad': 28, 'profesion': 'Desconocida'}\n"
     ]
    }
   ],
   "source": [
    "profesion = diccionario_ejemplo.setdefault(\"profesion\", \"Desconocida\")\n",
    "print(profesion)\n",
    "print(diccionario_ejemplo)"
   ]
  },
  {
   "attachments": {},
   "cell_type": "markdown",
   "metadata": {},
   "source": [
    "### 5. Comprobacion de existencia de claves\n",
    "#### Uso de in y not in\n",
    "Puedes utilizar las palabras clave in y not in para verificar si una clave está presente en un diccionario."
   ]
  },
  {
   "cell_type": "code",
   "execution_count": 1938,
   "metadata": {},
   "outputs": [
    {
     "name": "stdout",
     "output_type": "stream",
     "text": [
      "la clave nombe no esta en el diccionario\n"
     ]
    }
   ],
   "source": [
    "i = \"nombe\"\n",
    "if i in diccionario_ejemplo:\n",
    "    print(f\"La clave {i} está en el diccionario\")\n",
    "else :\n",
    "    print(f\"la clave {i} no esta en el diccionario\")"
   ]
  },
  {
   "attachments": {},
   "cell_type": "markdown",
   "metadata": {},
   "source": [
    "#### Manejo de errores con try y except\n",
    "Para manejar situaciones en las que intentas acceder a una clave que no existe en un diccionario, puedes utilizar bloques try y except."
   ]
  },
  {
   "cell_type": "code",
   "execution_count": 1939,
   "metadata": {},
   "outputs": [
    {
     "name": "stdout",
     "output_type": "stream",
     "text": [
      "La clave no se encuentra en el diccionario\n"
     ]
    }
   ],
   "source": [
    "try:\n",
    "    nombre = diccionario_ejemplo[\"actitud\"]\n",
    "except KeyError:\n",
    "    print(\"La clave no se encuentra en el diccionario\")"
   ]
  },
  {
   "attachments": {},
   "cell_type": "markdown",
   "metadata": {},
   "source": [
    "### 6. Iteracion a traves de diccionarios\n",
    "#### Iterar sobre claves\n",
    "Para iterar sobre las claves de un diccionario, puedes utilizar el método `keys()` en un bucle `for`."
   ]
  },
  {
   "cell_type": "code",
   "execution_count": 1940,
   "metadata": {},
   "outputs": [
    {
     "name": "stdout",
     "output_type": "stream",
     "text": [
      "nombre\n",
      "edad\n",
      "profesion\n"
     ]
    }
   ],
   "source": [
    "for clave in diccionario_ejemplo.keys():\n",
    "    print(clave)"
   ]
  },
  {
   "attachments": {},
   "cell_type": "markdown",
   "metadata": {},
   "source": [
    "#### Iterar sobre valores\n",
    "Para iterar sobre los valores de un diccionario, utiliza el método `values()` en un bucle `for`."
   ]
  },
  {
   "cell_type": "code",
   "execution_count": 1941,
   "metadata": {},
   "outputs": [
    {
     "name": "stdout",
     "output_type": "stream",
     "text": [
      "Pedro\n",
      "28\n",
      "Desconocida\n"
     ]
    }
   ],
   "source": [
    "for valor in diccionario_ejemplo.values():\n",
    "    print(valor)"
   ]
  },
  {
   "attachments": {},
   "cell_type": "markdown",
   "metadata": {},
   "source": [
    "#### Iterar sobre pares clave-valor\n",
    "Para iterar sobre los pares clave-valor de un diccionario, utiliza el método `items()` en un bucle `for`."
   ]
  },
  {
   "cell_type": "code",
   "execution_count": 1942,
   "metadata": {},
   "outputs": [
    {
     "name": "stdout",
     "output_type": "stream",
     "text": [
      "nombre: Pedro\n",
      "edad: 28\n",
      "profesion: Desconocida\n"
     ]
    }
   ],
   "source": [
    "for clave, valor in diccionario_ejemplo.items():\n",
    "    print(f\"{clave}: {valor}\")"
   ]
  },
  {
   "attachments": {},
   "cell_type": "markdown",
   "metadata": {},
   "source": [
    "### 7. Diccionarios anidados\n",
    "Los diccionarios anidados son diccionarios dentro de otros diccionarios. Son útiles cuando necesitas representar información jerárquica o estructuras más complejas.\n",
    "\n",
    "#### Diccionarios dentro de diccionarios"
   ]
  },
  {
   "cell_type": "code",
   "execution_count": 1943,
   "metadata": {},
   "outputs": [],
   "source": [
    "diccionario_anidado = {\n",
    "    \"persona\": {\n",
    "        \"nombre\": \"Juan\",\n",
    "        \"edad\": 30,\n",
    "        \"ciudad\": \"Madrid\"\n",
    "    },\n",
    "    \"trabajo\": {\n",
    "        \"empresa\": \"Tech Corp\",\n",
    "        \"puesto\": \"Ingeniero\",\n",
    "        \"sueldo\": 45000\n",
    "    }\n",
    "}"
   ]
  },
  {
   "attachments": {},
   "cell_type": "markdown",
   "metadata": {},
   "source": [
    "#### Acceso y modificación de elementos en diccionarios anidados\n",
    "Para acceder o modificar elementos en diccionarios anidados, usa múltiples conjuntos de corchetes `[]` con las claves correspondientes."
   ]
  },
  {
   "cell_type": "code",
   "execution_count": 1944,
   "metadata": {},
   "outputs": [
    {
     "name": "stdout",
     "output_type": "stream",
     "text": [
      "Juan\n",
      "{'persona': {'nombre': 'Juan', 'edad': 30, 'ciudad': 'Madrid'}, 'trabajo': {'empresa': 'Tech Corp', 'puesto': 'Ingeniero', 'sueldo': 46000}}\n",
      "nombre: Juan\n",
      "edad: 30\n",
      "ciudad: Madrid\n"
     ]
    }
   ],
   "source": [
    "nombre = diccionario_anidado[\"persona\"][\"nombre\"]\n",
    "diccionario_anidado[\"trabajo\"][\"sueldo\"] = 46000\n",
    "print(nombre)\n",
    "print(diccionario_anidado)\n",
    "\n",
    "for persona, trabajo in diccionario_anidado[\"persona\"].items():\n",
    "    print(f\"{persona}: {trabajo}\")"
   ]
  },
  {
   "attachments": {},
   "cell_type": "markdown",
   "metadata": {},
   "source": [
    "### 8. Aplicaciones practicas de diccionarios\n",
    "#### conteo de frecuencia de palabras\n",
    "Los diccionarios son útiles para contar la frecuencia de palabras en un texto, como se muestra en el siguiente ejemplo:"
   ]
  },
  {
   "cell_type": "code",
   "execution_count": 1945,
   "metadata": {},
   "outputs": [
    {
     "name": "stdout",
     "output_type": "stream",
     "text": [
      "['Este', 'es', 'un', 'ejemplo', 'de', 'conteo', 'de', 'palabras', 'usando', 'un', 'diccionario', 'en', 'Python']\n",
      "{'Este': 1, 'es': 1, 'un': 2, 'ejemplo': 1, 'de': 2, 'conteo': 1, 'palabras': 1, 'usando': 1, 'diccionario': 1, 'en': 1, 'Python': 1}\n"
     ]
    }
   ],
   "source": [
    "texto = \"Este es un ejemplo de conteo de palabras usando un diccionario en Python\"\n",
    "palabras = texto.split()\n",
    "print(palabras)\n",
    "frecuencia_palabras = {}\n",
    "\n",
    "for palabra in palabras:\n",
    "\n",
    "    if palabra in frecuencia_palabras:\n",
    "        frecuencia_palabras[palabra] += 1 # le suma 1 en el valor si se repite la palabra de la clave\n",
    "    else:\n",
    "        frecuencia_palabras[palabra] = 1 # asigna 1 a las palabras\n",
    "\n",
    "print(frecuencia_palabras)"
   ]
  },
  {
   "attachments": {},
   "cell_type": "markdown",
   "metadata": {},
   "source": [
    "#### Tablas de símbolos\n",
    "Los diccionarios también son útiles para representar tablas de símbolos, como en el siguiente ejemplo:"
   ]
  },
  {
   "cell_type": "code",
   "execution_count": 1946,
   "metadata": {},
   "outputs": [
    {
     "name": "stdout",
     "output_type": "stream",
     "text": [
      "El símbolo + representa la operación de suma\n"
     ]
    }
   ],
   "source": [
    "tabla_simbolos = {\"+\": \"suma\", \"-\": \"resta\", \"*\": \"multiplicación\", \"/\": \"división\"}\n",
    "\n",
    "simbolo = \"+\"\n",
    "print(f\"El símbolo {simbolo} representa la operación de {tabla_simbolos[simbolo]}\")"
   ]
  },
  {
   "attachments": {},
   "cell_type": "markdown",
   "metadata": {},
   "source": [
    "#### bases de datos simples\n",
    "Puedes utilizar diccionarios anidados para crear una base de datos simple, como una agenda de contactos:"
   ]
  },
  {
   "cell_type": "code",
   "execution_count": 1947,
   "metadata": {},
   "outputs": [
    {
     "name": "stdout",
     "output_type": "stream",
     "text": [
      "El contacto con ID 2 es María y su teléfono es 234-567-8901\n"
     ]
    }
   ],
   "source": [
    "agenda_contactos = {\n",
    "    1: {\"nombre\": \"Juan\", \"telefono\": \"123-456-7890\"},\n",
    "    2: {\"nombre\": \"María\", \"teléfono\": \"234-567-8901\"},\n",
    "    3: {\"nombre\": \"Pedro\", \"teléfono\": \"345-678-9012\"}\n",
    "}\n",
    "\n",
    "contacto_id = 2\n",
    "print(f\"El contacto con ID {contacto_id} es {agenda_contactos[contacto_id]['nombre']} y su teléfono es {agenda_contactos[contacto_id]['teléfono']}\")"
   ]
  },
  {
   "attachments": {},
   "cell_type": "markdown",
   "metadata": {},
   "source": [
    "### ejercicios practicos\n",
    "#### Ejercicio de práctica\n",
    "Crea una función que invierta las claves y valores de un diccionario:"
   ]
  },
  {
   "cell_type": "code",
   "execution_count": 1948,
   "metadata": {},
   "outputs": [
    {
     "name": "stdout",
     "output_type": "stream",
     "text": [
      "{1: 'a', 2: 'b', 3: 'c'}\n"
     ]
    }
   ],
   "source": [
    "def invertir_diccionario(diccionario):\n",
    "    return {v: k for k, v in diccionario.items()}  # aqui esta invirtiendo ya que k ahora vendria siendo la clave donde al principio era v\n",
    "\n",
    "diccionario_prueba = {\"a\": 1, \"b\": 2, \"c\": 3}\n",
    "diccionario_invertido = invertir_diccionario(diccionario_prueba)\n",
    "print(diccionario_invertido) "
   ]
  },
  {
   "attachments": {},
   "cell_type": "markdown",
   "metadata": {},
   "source": [
    "#### Proyecto final\n",
    " Crear una agenda de contactos usando diccionarios\n"
   ]
  },
  {
   "cell_type": "code",
   "execution_count": 1949,
   "metadata": {},
   "outputs": [
    {
     "name": "stdout",
     "output_type": "stream",
     "text": [
      "1: Juan - 123-456-7890\n",
      "2: María - 234-567-8901\n"
     ]
    }
   ],
   "source": [
    "class Agenda:\n",
    "    def __init__(self):\n",
    "        self.contactos = {}\n",
    "\n",
    "    def agregar_contacto(self, id, nombre, telefono):\n",
    "        self.contactos[id] = {\"nombre\": nombre, \"teléfono\": telefono}\n",
    "\n",
    "    def eliminar_contacto(self, id):\n",
    "        if id in self.contactos:\n",
    "            del self.contactos[id]\n",
    "        else:\n",
    "            print(\"El contacto no existe\")\n",
    "\n",
    "    def buscar_contacto(self, id):\n",
    "        return self.contactos.get(id, \"El contacto no existe\")\n",
    "\n",
    "    def mostrar_contactos(self):\n",
    "        for id, contacto in self.contactos.items():\n",
    "            print(f\"{id}: {contacto['nombre']} - {contacto['teléfono']}\")\n",
    "\n",
    "agenda = Agenda()\n",
    "agenda.agregar_contacto(1, \"Juan\", \"123-456-7890\")\n",
    "agenda.agregar_contacto(2, \"María\", \"234-567-8901\")\n",
    "agenda.mostrar_contactos()"
   ]
  }
 ],
 "metadata": {
  "kernelspec": {
   "display_name": "Python 3",
   "language": "python",
   "name": "python3"
  },
  "language_info": {
   "codemirror_mode": {
    "name": "ipython",
    "version": 3
   },
   "file_extension": ".py",
   "mimetype": "text/x-python",
   "name": "python",
   "nbconvert_exporter": "python",
   "pygments_lexer": "ipython3",
   "version": "3.11.2"
  },
  "orig_nbformat": 4
 },
 "nbformat": 4,
 "nbformat_minor": 2
}
